{
 "cells": [
  {
   "cell_type": "code",
   "execution_count": 10,
   "id": "552b6054",
   "metadata": {},
   "outputs": [],
   "source": [
    "import pandas as pd\n",
    "import seaborn as sns\n",
    "import numpy as np\n",
    "import matplotlib.pyplot as plt\n",
    "%matplotlib inline"
   ]
  },
  {
   "cell_type": "code",
   "execution_count": 2,
   "id": "91fb7d29",
   "metadata": {},
   "outputs": [
    {
     "data": {
      "text/html": [
       "<div>\n",
       "<style scoped>\n",
       "    .dataframe tbody tr th:only-of-type {\n",
       "        vertical-align: middle;\n",
       "    }\n",
       "\n",
       "    .dataframe tbody tr th {\n",
       "        vertical-align: top;\n",
       "    }\n",
       "\n",
       "    .dataframe thead th {\n",
       "        text-align: right;\n",
       "    }\n",
       "</style>\n",
       "<table border=\"1\" class=\"dataframe\">\n",
       "  <thead>\n",
       "    <tr style=\"text-align: right;\">\n",
       "      <th></th>\n",
       "      <th>ATId</th>\n",
       "      <th>BusinessId</th>\n",
       "      <th>DeviceCode</th>\n",
       "      <th>TransactionID</th>\n",
       "      <th>AssociateRefTxnId</th>\n",
       "      <th>ProductId</th>\n",
       "      <th>PayModeId</th>\n",
       "      <th>Amount</th>\n",
       "      <th>TxnSource</th>\n",
       "      <th>Status</th>\n",
       "      <th>IsReversed</th>\n",
       "      <th>TransactionDate</th>\n",
       "      <th>EndPointId</th>\n",
       "      <th>StatusCode</th>\n",
       "      <th>UpdatedOn</th>\n",
       "    </tr>\n",
       "  </thead>\n",
       "  <tbody>\n",
       "    <tr>\n",
       "      <th>0</th>\n",
       "      <td>143453104</td>\n",
       "      <td>343554</td>\n",
       "      <td>MAO4SLWN</td>\n",
       "      <td>2205150001320000003</td>\n",
       "      <td>NaN</td>\n",
       "      <td>49</td>\n",
       "      <td>1</td>\n",
       "      <td>666.0</td>\n",
       "      <td>2</td>\n",
       "      <td>3</td>\n",
       "      <td>1</td>\n",
       "      <td>2022-05-15 00:01:32.453</td>\n",
       "      <td>47</td>\n",
       "      <td>201</td>\n",
       "      <td>2022-05-15 00:01:33.850</td>\n",
       "    </tr>\n",
       "    <tr>\n",
       "      <th>1</th>\n",
       "      <td>143453105</td>\n",
       "      <td>343050</td>\n",
       "      <td>MADRKA0</td>\n",
       "      <td>2205150002320000005</td>\n",
       "      <td>NaN</td>\n",
       "      <td>51</td>\n",
       "      <td>1</td>\n",
       "      <td>479.0</td>\n",
       "      <td>2</td>\n",
       "      <td>2</td>\n",
       "      <td>2</td>\n",
       "      <td>2022-05-15 00:02:32.047</td>\n",
       "      <td>6</td>\n",
       "      <td>NaN</td>\n",
       "      <td>2022-05-15 00:02:57.303</td>\n",
       "    </tr>\n",
       "    <tr>\n",
       "      <th>2</th>\n",
       "      <td>143453106</td>\n",
       "      <td>190431</td>\n",
       "      <td>AS55HE7M</td>\n",
       "      <td>2205150003490000010</td>\n",
       "      <td>NaN</td>\n",
       "      <td>3039</td>\n",
       "      <td>1</td>\n",
       "      <td>0.0</td>\n",
       "      <td>2</td>\n",
       "      <td>3</td>\n",
       "      <td>3</td>\n",
       "      <td>2022-05-15 00:03:49.210</td>\n",
       "      <td>64</td>\n",
       "      <td>NaN</td>\n",
       "      <td>2022-05-15 00:03:49.570</td>\n",
       "    </tr>\n",
       "    <tr>\n",
       "      <th>3</th>\n",
       "      <td>143453107</td>\n",
       "      <td>190431</td>\n",
       "      <td>AS55HE7M</td>\n",
       "      <td>2205150003580000011</td>\n",
       "      <td>NaN</td>\n",
       "      <td>3039</td>\n",
       "      <td>1</td>\n",
       "      <td>0.0</td>\n",
       "      <td>2</td>\n",
       "      <td>3</td>\n",
       "      <td>3</td>\n",
       "      <td>2022-05-15 00:03:58.007</td>\n",
       "      <td>64</td>\n",
       "      <td>NaN</td>\n",
       "      <td>2022-05-15 00:03:58.303</td>\n",
       "    </tr>\n",
       "    <tr>\n",
       "      <th>4</th>\n",
       "      <td>143453108</td>\n",
       "      <td>190431</td>\n",
       "      <td>AS55HE7M</td>\n",
       "      <td>2205150004220000012</td>\n",
       "      <td>NaN</td>\n",
       "      <td>3039</td>\n",
       "      <td>1</td>\n",
       "      <td>0.0</td>\n",
       "      <td>2</td>\n",
       "      <td>3</td>\n",
       "      <td>3</td>\n",
       "      <td>2022-05-15 00:04:22.217</td>\n",
       "      <td>64</td>\n",
       "      <td>NaN</td>\n",
       "      <td>2022-05-15 00:04:22.467</td>\n",
       "    </tr>\n",
       "  </tbody>\n",
       "</table>\n",
       "</div>"
      ],
      "text/plain": [
       "        ATId  BusinessId DeviceCode        TransactionID AssociateRefTxnId  \\\n",
       "0  143453104      343554   MAO4SLWN  2205150001320000003               NaN   \n",
       "1  143453105      343050    MADRKA0  2205150002320000005               NaN   \n",
       "2  143453106      190431   AS55HE7M  2205150003490000010               NaN   \n",
       "3  143453107      190431   AS55HE7M  2205150003580000011               NaN   \n",
       "4  143453108      190431   AS55HE7M  2205150004220000012               NaN   \n",
       "\n",
       "   ProductId  PayModeId  Amount  TxnSource  Status  IsReversed  \\\n",
       "0         49          1   666.0          2       3           1   \n",
       "1         51          1   479.0          2       2           2   \n",
       "2       3039          1     0.0          2       3           3   \n",
       "3       3039          1     0.0          2       3           3   \n",
       "4       3039          1     0.0          2       3           3   \n",
       "\n",
       "           TransactionDate  EndPointId StatusCode                UpdatedOn  \n",
       "0  2022-05-15 00:01:32.453          47        201  2022-05-15 00:01:33.850  \n",
       "1  2022-05-15 00:02:32.047           6        NaN  2022-05-15 00:02:57.303  \n",
       "2  2022-05-15 00:03:49.210          64        NaN  2022-05-15 00:03:49.570  \n",
       "3  2022-05-15 00:03:58.007          64        NaN  2022-05-15 00:03:58.303  \n",
       "4  2022-05-15 00:04:22.217          64        NaN  2022-05-15 00:04:22.467  "
      ]
     },
     "execution_count": 2,
     "metadata": {},
     "output_type": "execute_result"
    }
   ],
   "source": [
    "df = pd.read_csv('all_transaction.csv')\n",
    "df.head(5)\n",
    "#df.shape"
   ]
  },
  {
   "cell_type": "code",
   "execution_count": 3,
   "id": "786e04e3",
   "metadata": {},
   "outputs": [
    {
     "data": {
      "text/plain": [
       "ATId                      0\n",
       "BusinessId                0\n",
       "DeviceCode                0\n",
       "TransactionID             0\n",
       "AssociateRefTxnId    140078\n",
       "ProductId                 0\n",
       "PayModeId                 0\n",
       "Amount                    0\n",
       "TxnSource                 0\n",
       "Status                    0\n",
       "IsReversed                0\n",
       "TransactionDate           0\n",
       "EndPointId                0\n",
       "StatusCode            68410\n",
       "UpdatedOn                 5\n",
       "dtype: int64"
      ]
     },
     "execution_count": 3,
     "metadata": {},
     "output_type": "execute_result"
    }
   ],
   "source": [
    "df.isnull().sum(axis = 0)"
   ]
  },
  {
   "cell_type": "code",
   "execution_count": 4,
   "id": "2bce3add",
   "metadata": {},
   "outputs": [
    {
     "name": "stdout",
     "output_type": "stream",
     "text": [
      "<class 'pandas.core.frame.DataFrame'>\n",
      "RangeIndex: 141002 entries, 0 to 141001\n",
      "Data columns (total 15 columns):\n",
      " #   Column             Non-Null Count   Dtype  \n",
      "---  ------             --------------   -----  \n",
      " 0   ATId               141002 non-null  int64  \n",
      " 1   BusinessId         141002 non-null  int64  \n",
      " 2   DeviceCode         141002 non-null  object \n",
      " 3   TransactionID      141002 non-null  int64  \n",
      " 4   AssociateRefTxnId  924 non-null     object \n",
      " 5   ProductId          141002 non-null  int64  \n",
      " 6   PayModeId          141002 non-null  int64  \n",
      " 7   Amount             141002 non-null  float64\n",
      " 8   TxnSource          141002 non-null  int64  \n",
      " 9   Status             141002 non-null  int64  \n",
      " 10  IsReversed         141002 non-null  int64  \n",
      " 11  TransactionDate    141002 non-null  object \n",
      " 12  EndPointId         141002 non-null  int64  \n",
      " 13  StatusCode         72592 non-null   object \n",
      " 14  UpdatedOn          140997 non-null  object \n",
      "dtypes: float64(1), int64(9), object(5)\n",
      "memory usage: 16.1+ MB\n"
     ]
    }
   ],
   "source": [
    "df.info()"
   ]
  },
  {
   "cell_type": "code",
   "execution_count": 5,
   "id": "96976997",
   "metadata": {},
   "outputs": [
    {
     "data": {
      "text/html": [
       "<div>\n",
       "<style scoped>\n",
       "    .dataframe tbody tr th:only-of-type {\n",
       "        vertical-align: middle;\n",
       "    }\n",
       "\n",
       "    .dataframe tbody tr th {\n",
       "        vertical-align: top;\n",
       "    }\n",
       "\n",
       "    .dataframe thead th {\n",
       "        text-align: right;\n",
       "    }\n",
       "</style>\n",
       "<table border=\"1\" class=\"dataframe\">\n",
       "  <thead>\n",
       "    <tr style=\"text-align: right;\">\n",
       "      <th></th>\n",
       "      <th>BusinessId</th>\n",
       "      <th>ProductId</th>\n",
       "      <th>PayModeId</th>\n",
       "      <th>Amount</th>\n",
       "      <th>Status</th>\n",
       "      <th>IsReversed</th>\n",
       "    </tr>\n",
       "  </thead>\n",
       "  <tbody>\n",
       "    <tr>\n",
       "      <th>0</th>\n",
       "      <td>343554</td>\n",
       "      <td>49</td>\n",
       "      <td>1</td>\n",
       "      <td>666.0</td>\n",
       "      <td>3</td>\n",
       "      <td>1</td>\n",
       "    </tr>\n",
       "    <tr>\n",
       "      <th>1</th>\n",
       "      <td>343050</td>\n",
       "      <td>51</td>\n",
       "      <td>1</td>\n",
       "      <td>479.0</td>\n",
       "      <td>2</td>\n",
       "      <td>2</td>\n",
       "    </tr>\n",
       "    <tr>\n",
       "      <th>2</th>\n",
       "      <td>190431</td>\n",
       "      <td>3039</td>\n",
       "      <td>1</td>\n",
       "      <td>0.0</td>\n",
       "      <td>3</td>\n",
       "      <td>3</td>\n",
       "    </tr>\n",
       "    <tr>\n",
       "      <th>3</th>\n",
       "      <td>190431</td>\n",
       "      <td>3039</td>\n",
       "      <td>1</td>\n",
       "      <td>0.0</td>\n",
       "      <td>3</td>\n",
       "      <td>3</td>\n",
       "    </tr>\n",
       "    <tr>\n",
       "      <th>4</th>\n",
       "      <td>190431</td>\n",
       "      <td>3039</td>\n",
       "      <td>1</td>\n",
       "      <td>0.0</td>\n",
       "      <td>3</td>\n",
       "      <td>3</td>\n",
       "    </tr>\n",
       "  </tbody>\n",
       "</table>\n",
       "</div>"
      ],
      "text/plain": [
       "   BusinessId  ProductId  PayModeId  Amount  Status  IsReversed\n",
       "0      343554         49          1   666.0       3           1\n",
       "1      343050         51          1   479.0       2           2\n",
       "2      190431       3039          1     0.0       3           3\n",
       "3      190431       3039          1     0.0       3           3\n",
       "4      190431       3039          1     0.0       3           3"
      ]
     },
     "execution_count": 5,
     "metadata": {},
     "output_type": "execute_result"
    }
   ],
   "source": [
    "final = df.drop(['ATId','DeviceCode','TransactionID','AssociateRefTxnId','TransactionDate','EndPointId','StatusCode','UpdatedOn','TxnSource'],axis = 1)\n",
    "final.head()"
   ]
  },
  {
   "cell_type": "code",
   "execution_count": 6,
   "id": "f1e47312",
   "metadata": {},
   "outputs": [
    {
     "data": {
      "text/plain": [
       "1    141002\n",
       "Name: PayModeId, dtype: int64"
      ]
     },
     "execution_count": 6,
     "metadata": {},
     "output_type": "execute_result"
    }
   ],
   "source": [
    "final['PayModeId'].value_counts()"
   ]
  },
  {
   "cell_type": "markdown",
   "id": "e2b07c38",
   "metadata": {},
   "source": [
    "### Obseravations:\n",
    "Every transaction is cash pay on this day"
   ]
  },
  {
   "cell_type": "code",
   "execution_count": 8,
   "id": "9cda196d",
   "metadata": {},
   "outputs": [
    {
     "data": {
      "text/plain": [
       "2    88279\n",
       "3    52468\n",
       "6      221\n",
       "5       28\n",
       "1        6\n",
       "Name: Status, dtype: int64"
      ]
     },
     "execution_count": 8,
     "metadata": {},
     "output_type": "execute_result"
    }
   ],
   "source": [
    "final['Status'].value_counts()\n",
    "# 1 - inProcess\n",
    "# 2 - Success\n",
    "# 3 - Failed\n",
    "# 4 - Rejected\n",
    "# 5 - Partial Sucess\n",
    "# 6 - Cancelled"
   ]
  },
  {
   "cell_type": "code",
   "execution_count": 11,
   "id": "9007415f",
   "metadata": {},
   "outputs": [
    {
     "data": {
      "image/png": "[encoded data removed]",
      "text/plain": [
       "<Figure size 504x252 with 1 Axes>"
      ]
     },
     "metadata": {
      "needs_background": "light"
     },
     "output_type": "display_data"
    }
   ],
   "source": [
    "# count plot for PayModeId and Status\n",
    "plt.rcParams[\"figure.figsize\"] = [7.00, 3.50]\n",
    "plt.rcParams[\"figure.autolayout\"] = True\n",
    "ax = sns.countplot(hue = 'PayModeId',x = 'Status',data = final,palette = 'Set2')\n",
    "for p in ax.patches:\n",
    "    ax.annotate('{:.0f}'.format(p.get_height()), (p.get_x()+0.25, p.get_height()+0.01))\n",
    "\n",
    "plt.show()\n",
    "\n",
    "#sns.countplot(final['PayModeId'])"
   ]
  },
  {
   "cell_type": "code",
   "execution_count": 12,
   "id": "250d2877",
   "metadata": {},
   "outputs": [
    {
     "data": {
      "text/plain": [
       "3041    46101\n",
       "3039    38328\n",
       "3047    17826\n",
       "3037    15550\n",
       "3046     5133\n",
       "49       4260\n",
       "51       2367\n",
       "3045     2304\n",
       "81       2139\n",
       "3049     1716\n",
       "Name: ProductId, dtype: int64"
      ]
     },
     "execution_count": 12,
     "metadata": {},
     "output_type": "execute_result"
    }
   ],
   "source": [
    "a = final.ProductId.value_counts()\n",
    "a[:10]\n",
    "#len(a)"
   ]
  },
  {
   "cell_type": "code",
   "execution_count": 252,
   "id": "d9cffd3c",
   "metadata": {},
   "outputs": [
    {
     "data": {
      "application/javascript": [
       "\n",
       "        if (window._pyforest_update_imports_cell) { window._pyforest_update_imports_cell('import matplotlib.pyplot as plt'); }\n",
       "    "
      ],
      "text/plain": [
       "<IPython.core.display.Javascript object>"
      ]
     },
     "metadata": {},
     "output_type": "display_data"
    },
    {
     "data": {
      "text/plain": [
       "([<matplotlib.patches.Wedge at 0x17ca450ac40>,\n",
       "  <matplotlib.patches.Wedge at 0x17ca4511520>,\n",
       "  <matplotlib.patches.Wedge at 0x17ca4511100>,\n",
       "  <matplotlib.patches.Wedge at 0x17ca726a850>,\n",
       "  <matplotlib.patches.Wedge at 0x17ca726ae50>],\n",
       " [Text(0.8900522104655377, 0.6463799677012048, '3041'),\n",
       "  Text(-0.33883811820480697, 1.0465126514531133, '3039'),\n",
       "  Text(-1.0999997888378072, 0.0006815840225271907, '3047'),\n",
       "  Text(-0.3405668338999565, -1.045951352428668, '3037'),\n",
       "  Text(0.8893842173585286, -0.6472987825676468, '3046')],\n",
       " [Text(0.48548302389029324, 0.3525708914733844, '19.99%'),\n",
       "  Text(-0.18482079174807653, 0.570825082610789, '19.98%'),\n",
       "  Text(-0.599999884820622, 0.00037177310319664946, '20.03%'),\n",
       "  Text(-0.18576372758179446, -0.5705189195065461, '19.97%'),\n",
       "  Text(0.4851186640137428, -0.3530720632187164, '20.03%')])"
      ]
     },
     "execution_count": 252,
     "metadata": {},
     "output_type": "execute_result"
    },
    {
     "data": {
      "image/png": "[encoded data removed]",
      "text/plain": [
       "<Figure size 504x252 with 1 Axes>"
      ]
     },
     "metadata": {},
     "output_type": "display_data"
    }
   ],
   "source": [
    "Product_names=final.ProductId.value_counts().index\n",
    "Product_val=final.ProductId.value_counts().index\n",
    "plt.pie(Product_val[:5],labels=Product_names[:5],autopct='%1.2f%%')"
   ]
  },
  {
   "cell_type": "code",
   "execution_count": 208,
   "id": "b6983e63",
   "metadata": {},
   "outputs": [
    {
     "data": {
      "text/plain": [
       "1050    10000.0\n",
       "1049     9999.0\n",
       "1048     9990.0\n",
       "1047     9950.0\n",
       "1046     9927.0\n",
       "         ...   \n",
       "4          10.0\n",
       "3           6.0\n",
       "2           5.0\n",
       "1           1.0\n",
       "0           0.0\n",
       "Name: Amount, Length: 1051, dtype: float64"
      ]
     },
     "execution_count": 208,
     "metadata": {},
     "output_type": "execute_result"
    }
   ],
   "source": [
    "z = final[final['ProductId']==3041].groupby('Amount').size().reset_index().rename(columns={0:'Count'})\n",
    "zx = pd.DataFrame(z)\n",
    "zx\n",
    "zx['Amount'].sort_values(ascending = False)"
   ]
  },
  {
   "cell_type": "code",
   "execution_count": 209,
   "id": "d89cdf38",
   "metadata": {},
   "outputs": [
    {
     "name": "stdout",
     "output_type": "stream",
     "text": [
      "114148675.47\n"
     ]
    }
   ],
   "source": [
    "amt = 0\n",
    "for i in range(len(zx)):\n",
    "    amt += (zx['Amount'][i]*zx['Count'][i])\n",
    "print(amt)    \n",
    "#np.sum(zx['Amount']*zx['Count'])"
   ]
  },
  {
   "cell_type": "markdown",
   "id": "34c103d3",
   "metadata": {},
   "source": [
    "### Observations\n",
    "1. The product 3041 is used most of the time.\n",
    "2. The name of the product is AEPS Withdrawal Services.\n",
    "3. total amount is around 11.5 crore out of 17.96 Cr."
   ]
  },
  {
   "cell_type": "code",
   "execution_count": 213,
   "id": "a314d47d",
   "metadata": {},
   "outputs": [
    {
     "data": {
      "text/html": [
       "<div>\n",
       "<style scoped>\n",
       "    .dataframe tbody tr th:only-of-type {\n",
       "        vertical-align: middle;\n",
       "    }\n",
       "\n",
       "    .dataframe tbody tr th {\n",
       "        vertical-align: top;\n",
       "    }\n",
       "\n",
       "    .dataframe thead th {\n",
       "        text-align: right;\n",
       "    }\n",
       "</style>\n",
       "<table border=\"1\" class=\"dataframe\">\n",
       "  <thead>\n",
       "    <tr style=\"text-align: right;\">\n",
       "      <th></th>\n",
       "      <th>Amount</th>\n",
       "      <th>Count</th>\n",
       "    </tr>\n",
       "  </thead>\n",
       "  <tbody>\n",
       "    <tr>\n",
       "      <th>0</th>\n",
       "      <td>1.0</td>\n",
       "      <td>4708</td>\n",
       "    </tr>\n",
       "    <tr>\n",
       "      <th>1</th>\n",
       "      <td>2.0</td>\n",
       "      <td>1</td>\n",
       "    </tr>\n",
       "    <tr>\n",
       "      <th>2</th>\n",
       "      <td>40.0</td>\n",
       "      <td>1</td>\n",
       "    </tr>\n",
       "    <tr>\n",
       "      <th>3</th>\n",
       "      <td>50.0</td>\n",
       "      <td>2</td>\n",
       "    </tr>\n",
       "    <tr>\n",
       "      <th>4</th>\n",
       "      <td>65.0</td>\n",
       "      <td>1</td>\n",
       "    </tr>\n",
       "    <tr>\n",
       "      <th>...</th>\n",
       "      <td>...</td>\n",
       "      <td>...</td>\n",
       "    </tr>\n",
       "    <tr>\n",
       "      <th>342</th>\n",
       "      <td>4960.0</td>\n",
       "      <td>1</td>\n",
       "    </tr>\n",
       "    <tr>\n",
       "      <th>343</th>\n",
       "      <td>4970.0</td>\n",
       "      <td>1</td>\n",
       "    </tr>\n",
       "    <tr>\n",
       "      <th>344</th>\n",
       "      <td>4998.0</td>\n",
       "      <td>6</td>\n",
       "    </tr>\n",
       "    <tr>\n",
       "      <th>345</th>\n",
       "      <td>4999.0</td>\n",
       "      <td>200</td>\n",
       "    </tr>\n",
       "    <tr>\n",
       "      <th>346</th>\n",
       "      <td>5000.0</td>\n",
       "      <td>3932</td>\n",
       "    </tr>\n",
       "  </tbody>\n",
       "</table>\n",
       "<p>347 rows × 2 columns</p>\n",
       "</div>"
      ],
      "text/plain": [
       "     Amount  Count\n",
       "0       1.0   4708\n",
       "1       2.0      1\n",
       "2      40.0      1\n",
       "3      50.0      2\n",
       "4      65.0      1\n",
       "..      ...    ...\n",
       "342  4960.0      1\n",
       "343  4970.0      1\n",
       "344  4998.0      6\n",
       "345  4999.0    200\n",
       "346  5000.0   3932\n",
       "\n",
       "[347 rows x 2 columns]"
      ]
     },
     "execution_count": 213,
     "metadata": {},
     "output_type": "execute_result"
    }
   ],
   "source": [
    "d =final[final['ProductId'] == 3047].groupby('Amount').size().reset_index().rename(columns={0:'Count'})\n",
    "e = final[final['ProductId'] == 3039].groupby('Amount').size().reset_index().rename(columns={0:'Count'})\n",
    "#d\n",
    "f = final[final['ProductId'] == 3037].groupby('Amount').size().reset_index().rename(columns={0:'Count'})\n",
    "f"
   ]
  },
  {
   "cell_type": "code",
   "execution_count": 214,
   "id": "ef948ee9",
   "metadata": {},
   "outputs": [
    {
     "data": {
      "text/plain": [
       "33556967.0"
      ]
     },
     "execution_count": 214,
     "metadata": {},
     "output_type": "execute_result"
    }
   ],
   "source": [
    "np.sum(f['Amount']*f['Count'])"
   ]
  },
  {
   "cell_type": "markdown",
   "id": "7f6279ef",
   "metadata": {},
   "source": [
    "### Observations:\n",
    "1. from productId 3037 and 3041 i.e. BC Money transfer and AEPS Widrawal services\n",
    "2. total 114148675 + 33556967 = 147705642 (around 14.77 Cr out of 17.96)"
   ]
  },
  {
   "cell_type": "code",
   "execution_count": 170,
   "id": "41d3318e",
   "metadata": {},
   "outputs": [
    {
     "name": "stdout",
     "output_type": "stream",
     "text": [
      "Count of ProductId_3039 = 38328\n",
      "Count of ProductId_3047 = 17826\n"
     ]
    }
   ],
   "source": [
    "ans = []\n",
    "ans1 = []\n",
    "count = 0\n",
    "count1 = 0\n",
    "for i in range(len(final)):\n",
    "    if final['ProductId'][i] == 3039:\n",
    "        ans.append(i)\n",
    "        count += 1\n",
    "for i in range(len(final)):\n",
    "    if final['ProductId'][i] == 3047:\n",
    "        ans1.append(i)\n",
    "        count1 += 1\n",
    "print('Count of ProductId_3039 =',count)        \n",
    "print('Count of ProductId_3047 =',count1)        "
   ]
  },
  {
   "cell_type": "markdown",
   "id": "ecd383de",
   "metadata": {},
   "source": [
    "### Observations\n",
    "1. There are 97 different products.\n",
    "2. The two product which are used maximum number of times showing zero transactions.\n",
    "3. The products are 3039(AEPS Balance Services) ans 3047(AEPS Mini Statement)\n",
    "4. total count = 38328 + 17826 = 56154 (with 0 amount transaction out of 58496)"
   ]
  },
  {
   "cell_type": "code",
   "execution_count": 187,
   "id": "cd2e1450",
   "metadata": {},
   "outputs": [
    {
     "data": {
      "text/plain": [
       "(84848, 15)"
      ]
     },
     "execution_count": 187,
     "metadata": {},
     "output_type": "execute_result"
    }
   ],
   "source": [
    "ss = df.drop(ans)\n",
    "final_df = ss.drop(ans1)\n",
    "final_df.head()\n",
    "final_df.shape"
   ]
  },
  {
   "cell_type": "code",
   "execution_count": 78,
   "id": "2596b3bc",
   "metadata": {},
   "outputs": [
    {
     "data": {
      "text/plain": [
       "62450     200000.0\n",
       "62471     200000.0\n",
       "90662      49800.0\n",
       "133483     49800.0\n",
       "94495      49800.0\n",
       "            ...   \n",
       "45961          0.0\n",
       "101819         0.0\n",
       "101820         0.0\n",
       "101821         0.0\n",
       "109132         0.0\n",
       "Name: Amount, Length: 141002, dtype: float64"
      ]
     },
     "execution_count": 78,
     "metadata": {},
     "output_type": "execute_result"
    }
   ],
   "source": [
    "df['Amount'].sort_values(ascending = False)"
   ]
  },
  {
   "cell_type": "code",
   "execution_count": 185,
   "id": "aebbb76b",
   "metadata": {},
   "outputs": [
    {
     "data": {
      "text/plain": [
       "1000.00     6211\n",
       "5000.00     5693\n",
       "1.00        4969\n",
       "10000.00    4406\n",
       "2000.00     4070\n",
       "            ... \n",
       "543.00         1\n",
       "266.00         1\n",
       "5320.00        1\n",
       "1293.00        1\n",
       "7281.26        1\n",
       "Name: Amount, Length: 2841, dtype: int64"
      ]
     },
     "execution_count": 185,
     "metadata": {},
     "output_type": "execute_result"
    }
   ],
   "source": [
    "final.Amount.value_counts()"
   ]
  },
  {
   "cell_type": "code",
   "execution_count": 225,
   "id": "7276455a",
   "metadata": {},
   "outputs": [
    {
     "data": {
      "text/html": [
       "<div>\n",
       "<style scoped>\n",
       "    .dataframe tbody tr th:only-of-type {\n",
       "        vertical-align: middle;\n",
       "    }\n",
       "\n",
       "    .dataframe tbody tr th {\n",
       "        vertical-align: top;\n",
       "    }\n",
       "\n",
       "    .dataframe thead th {\n",
       "        text-align: right;\n",
       "    }\n",
       "</style>\n",
       "<table border=\"1\" class=\"dataframe\">\n",
       "  <thead>\n",
       "    <tr style=\"text-align: right;\">\n",
       "      <th></th>\n",
       "      <th>ProductId</th>\n",
       "      <th>Count</th>\n",
       "    </tr>\n",
       "  </thead>\n",
       "  <tbody>\n",
       "    <tr>\n",
       "      <th>0</th>\n",
       "      <td>3038</td>\n",
       "      <td>2</td>\n",
       "    </tr>\n",
       "  </tbody>\n",
       "</table>\n",
       "</div>"
      ],
      "text/plain": [
       "   ProductId  Count\n",
       "0       3038      2"
      ]
     },
     "execution_count": 225,
     "metadata": {},
     "output_type": "execute_result"
    }
   ],
   "source": [
    "f1 = final[final['Amount'] >= 100000].groupby('ProductId').size().reset_index().rename(columns={0:'Count'})\n",
    "f1\n",
    "# Name of product :Top-Up PaypointZ Wallet"
   ]
  },
  {
   "cell_type": "code",
   "execution_count": 240,
   "id": "00abe7e7",
   "metadata": {},
   "outputs": [
    {
     "data": {
      "text/html": [
       "<div>\n",
       "<style scoped>\n",
       "    .dataframe tbody tr th:only-of-type {\n",
       "        vertical-align: middle;\n",
       "    }\n",
       "\n",
       "    .dataframe tbody tr th {\n",
       "        vertical-align: top;\n",
       "    }\n",
       "\n",
       "    .dataframe thead th {\n",
       "        text-align: right;\n",
       "    }\n",
       "</style>\n",
       "<table border=\"1\" class=\"dataframe\">\n",
       "  <thead>\n",
       "    <tr style=\"text-align: right;\">\n",
       "      <th></th>\n",
       "      <th>ProductId</th>\n",
       "      <th>Count</th>\n",
       "    </tr>\n",
       "  </thead>\n",
       "  <tbody>\n",
       "    <tr>\n",
       "      <th>0</th>\n",
       "      <td>87</td>\n",
       "      <td>1</td>\n",
       "    </tr>\n",
       "    <tr>\n",
       "      <th>1</th>\n",
       "      <td>368</td>\n",
       "      <td>15</td>\n",
       "    </tr>\n",
       "    <tr>\n",
       "      <th>2</th>\n",
       "      <td>3036</td>\n",
       "      <td>19</td>\n",
       "    </tr>\n",
       "    <tr>\n",
       "      <th>3</th>\n",
       "      <td>3038</td>\n",
       "      <td>2</td>\n",
       "    </tr>\n",
       "  </tbody>\n",
       "</table>\n",
       "</div>"
      ],
      "text/plain": [
       "   ProductId  Count\n",
       "0         87      1\n",
       "1        368     15\n",
       "2       3036     19\n",
       "3       3038      2"
      ]
     },
     "execution_count": 240,
     "metadata": {},
     "output_type": "execute_result"
    }
   ],
   "source": [
    "df[df['Amount']>=40000].groupby('ProductId').size().reset_index().rename(columns={0:'Count'})"
   ]
  },
  {
   "cell_type": "code",
   "execution_count": 250,
   "id": "df675ec0",
   "metadata": {},
   "outputs": [
    {
     "data": {
      "text/plain": [
       "2367412.46"
      ]
     },
     "execution_count": 250,
     "metadata": {},
     "output_type": "execute_result"
    }
   ],
   "source": [
    "g = final[final['ProductId'] == 3036].groupby('Amount').size().reset_index().rename(columns={0:'Count'})\n",
    "h = final[final['ProductId'] == 87].groupby('Amount').size().reset_index().rename(columns={0:'Count'})\n",
    "g\n",
    "ad = np.sum(g['Amount']*g['Count'])\n",
    "vc = np.sum(h['Amount']*h['Count'])\n",
    "ad\n",
    "res = ad + vc\n",
    "res"
   ]
  },
  {
   "cell_type": "markdown",
   "id": "41f80a3b",
   "metadata": {},
   "source": [
    "## Product catalog"
   ]
  },
  {
   "cell_type": "code",
   "execution_count": 256,
   "id": "a6d99530",
   "metadata": {},
   "outputs": [
    {
     "data": {
      "text/html": [
       "<div>\n",
       "<style scoped>\n",
       "    .dataframe tbody tr th:only-of-type {\n",
       "        vertical-align: middle;\n",
       "    }\n",
       "\n",
       "    .dataframe tbody tr th {\n",
       "        vertical-align: top;\n",
       "    }\n",
       "\n",
       "    .dataframe thead th {\n",
       "        text-align: right;\n",
       "    }\n",
       "</style>\n",
       "<table border=\"1\" class=\"dataframe\">\n",
       "  <thead>\n",
       "    <tr style=\"text-align: right;\">\n",
       "      <th></th>\n",
       "      <th>ProductId</th>\n",
       "      <th>Product</th>\n",
       "      <th>AggregatorId</th>\n",
       "      <th>ServiceId</th>\n",
       "      <th>OperatorId</th>\n",
       "      <th>DomainId</th>\n",
       "      <th>IsActive</th>\n",
       "      <th>IsTerminate</th>\n",
       "      <th>CreatedOn</th>\n",
       "      <th>UpdateOn</th>\n",
       "      <th>UpdateBy</th>\n",
       "    </tr>\n",
       "  </thead>\n",
       "  <tbody>\n",
       "    <tr>\n",
       "      <th>0</th>\n",
       "      <td>3</td>\n",
       "      <td>GST</td>\n",
       "      <td>41.0</td>\n",
       "      <td>5</td>\n",
       "      <td>67.0</td>\n",
       "      <td>9.0</td>\n",
       "      <td>1</td>\n",
       "      <td>0</td>\n",
       "      <td>2017-09-23 11:04:52.170</td>\n",
       "      <td>2020-05-18 00:03:15.723</td>\n",
       "      <td>140</td>\n",
       "    </tr>\n",
       "    <tr>\n",
       "      <th>1</th>\n",
       "      <td>4</td>\n",
       "      <td>Loan</td>\n",
       "      <td>41.0</td>\n",
       "      <td>5</td>\n",
       "      <td>67.0</td>\n",
       "      <td>9.0</td>\n",
       "      <td>1</td>\n",
       "      <td>0</td>\n",
       "      <td>2018-08-20 12:22:33.703</td>\n",
       "      <td>2020-05-18 00:03:15.723</td>\n",
       "      <td>140</td>\n",
       "    </tr>\n",
       "    <tr>\n",
       "      <th>2</th>\n",
       "      <td>22</td>\n",
       "      <td>MSEDCL - MAHARASHTRA</td>\n",
       "      <td>43.0</td>\n",
       "      <td>1</td>\n",
       "      <td>44.0</td>\n",
       "      <td>2.0</td>\n",
       "      <td>1</td>\n",
       "      <td>0</td>\n",
       "      <td>2016-06-15 10:49:32.087</td>\n",
       "      <td>2022-05-13 13:31:45.333</td>\n",
       "      <td>205</td>\n",
       "    </tr>\n",
       "    <tr>\n",
       "      <th>3</th>\n",
       "      <td>25</td>\n",
       "      <td>BSNL Landline - individual</td>\n",
       "      <td>43.0</td>\n",
       "      <td>1</td>\n",
       "      <td>5.0</td>\n",
       "      <td>12.0</td>\n",
       "      <td>1</td>\n",
       "      <td>0</td>\n",
       "      <td>2016-05-30 15:42:11.140</td>\n",
       "      <td>2020-05-18 00:03:15.723</td>\n",
       "      <td>140</td>\n",
       "    </tr>\n",
       "    <tr>\n",
       "      <th>4</th>\n",
       "      <td>40</td>\n",
       "      <td>Tata Play</td>\n",
       "      <td>47.0</td>\n",
       "      <td>2</td>\n",
       "      <td>15.0</td>\n",
       "      <td>4.0</td>\n",
       "      <td>1</td>\n",
       "      <td>0</td>\n",
       "      <td>2011-10-20 16:42:15.110</td>\n",
       "      <td>2022-04-21 12:23:49.053</td>\n",
       "      <td>205</td>\n",
       "    </tr>\n",
       "  </tbody>\n",
       "</table>\n",
       "</div>"
      ],
      "text/plain": [
       "   ProductId                     Product  AggregatorId  ServiceId  OperatorId  \\\n",
       "0          3                         GST          41.0          5        67.0   \n",
       "1          4                        Loan          41.0          5        67.0   \n",
       "2         22        MSEDCL - MAHARASHTRA          43.0          1        44.0   \n",
       "3         25  BSNL Landline - individual          43.0          1         5.0   \n",
       "4         40                   Tata Play          47.0          2        15.0   \n",
       "\n",
       "   DomainId  IsActive  IsTerminate                CreatedOn  \\\n",
       "0       9.0         1            0  2017-09-23 11:04:52.170   \n",
       "1       9.0         1            0  2018-08-20 12:22:33.703   \n",
       "2       2.0         1            0  2016-06-15 10:49:32.087   \n",
       "3      12.0         1            0  2016-05-30 15:42:11.140   \n",
       "4       4.0         1            0  2011-10-20 16:42:15.110   \n",
       "\n",
       "                  UpdateOn  UpdateBy  \n",
       "0  2020-05-18 00:03:15.723       140  \n",
       "1  2020-05-18 00:03:15.723       140  \n",
       "2  2022-05-13 13:31:45.333       205  \n",
       "3  2020-05-18 00:03:15.723       140  \n",
       "4  2022-04-21 12:23:49.053       205  "
      ]
     },
     "execution_count": 256,
     "metadata": {},
     "output_type": "execute_result"
    }
   ],
   "source": [
    "product_data = pd.read_csv('ProductCatalog.csv')\n",
    "product_data.head()\n",
    "#product_data.shape"
   ]
  },
  {
   "cell_type": "code",
   "execution_count": 264,
   "id": "d3bdb36f",
   "metadata": {},
   "outputs": [
    {
     "data": {
      "text/plain": [
       "ProductId       0\n",
       "Product         0\n",
       "AggregatorId    1\n",
       "ServiceId       0\n",
       "OperatorId      3\n",
       "DomainId        2\n",
       "IsActive        0\n",
       "IsTerminate     0\n",
       "CreatedOn       0\n",
       "UpdateOn        0\n",
       "UpdateBy        0\n",
       "dtype: int64"
      ]
     },
     "execution_count": 264,
     "metadata": {},
     "output_type": "execute_result"
    }
   ],
   "source": [
    "product_data.isnull().sum()"
   ]
  },
  {
   "cell_type": "code",
   "execution_count": 258,
   "id": "d007f81c",
   "metadata": {},
   "outputs": [
    {
     "data": {
      "text/html": [
       "<div>\n",
       "<style scoped>\n",
       "    .dataframe tbody tr th:only-of-type {\n",
       "        vertical-align: middle;\n",
       "    }\n",
       "\n",
       "    .dataframe tbody tr th {\n",
       "        vertical-align: top;\n",
       "    }\n",
       "\n",
       "    .dataframe thead th {\n",
       "        text-align: right;\n",
       "    }\n",
       "</style>\n",
       "<table border=\"1\" class=\"dataframe\">\n",
       "  <thead>\n",
       "    <tr style=\"text-align: right;\">\n",
       "      <th></th>\n",
       "      <th>Product</th>\n",
       "      <th>Count</th>\n",
       "    </tr>\n",
       "  </thead>\n",
       "  <tbody>\n",
       "    <tr>\n",
       "      <th>0</th>\n",
       "      <td>BC Money Transfer</td>\n",
       "      <td>1</td>\n",
       "    </tr>\n",
       "  </tbody>\n",
       "</table>\n",
       "</div>"
      ],
      "text/plain": [
       "             Product  Count\n",
       "0  BC Money Transfer      1"
      ]
     },
     "execution_count": 258,
     "metadata": {},
     "output_type": "execute_result"
    }
   ],
   "source": [
    "x = product_data[product_data['ProductId'] == 3047].groupby('Product').size().reset_index().rename(columns={0:'Count'})\n",
    "y = product_data[product_data['ProductId'] == 3039].groupby('Product').size().reset_index().rename(columns={0:'Count'})\n",
    "z = product_data[product_data['ProductId'] == 3041].groupby('Product').size().reset_index().rename(columns={0:'Count'})\n",
    "z1 = product_data[product_data['ProductId'] == 3037].groupby('Product').size().reset_index().rename(columns={0:'Count'})\n",
    "#x\n",
    "#y\n",
    "z1"
   ]
  },
  {
   "cell_type": "code",
   "execution_count": 348,
   "id": "52b72ca0",
   "metadata": {
    "scrolled": true
   },
   "outputs": [
    {
     "data": {
      "text/html": [
       "<div>\n",
       "<style scoped>\n",
       "    .dataframe tbody tr th:only-of-type {\n",
       "        vertical-align: middle;\n",
       "    }\n",
       "\n",
       "    .dataframe tbody tr th {\n",
       "        vertical-align: top;\n",
       "    }\n",
       "\n",
       "    .dataframe thead th {\n",
       "        text-align: right;\n",
       "    }\n",
       "</style>\n",
       "<table border=\"1\" class=\"dataframe\">\n",
       "  <thead>\n",
       "    <tr style=\"text-align: right;\">\n",
       "      <th></th>\n",
       "      <th>BusinessId</th>\n",
       "      <th>ProductId</th>\n",
       "      <th>PayModeId</th>\n",
       "      <th>Amount</th>\n",
       "      <th>Status</th>\n",
       "      <th>IsReversed</th>\n",
       "      <th>Product</th>\n",
       "      <th>AggregatorId</th>\n",
       "      <th>ServiceId</th>\n",
       "      <th>OperatorId</th>\n",
       "      <th>DomainId</th>\n",
       "      <th>IsActive</th>\n",
       "      <th>IsTerminate</th>\n",
       "      <th>CreatedOn</th>\n",
       "      <th>UpdateOn</th>\n",
       "      <th>UpdateBy</th>\n",
       "    </tr>\n",
       "  </thead>\n",
       "  <tbody>\n",
       "    <tr>\n",
       "      <th>0</th>\n",
       "      <td>343554</td>\n",
       "      <td>49</td>\n",
       "      <td>1</td>\n",
       "      <td>666.0</td>\n",
       "      <td>3</td>\n",
       "      <td>1</td>\n",
       "      <td>Reliance JIO</td>\n",
       "      <td>6.0</td>\n",
       "      <td>2.0</td>\n",
       "      <td>13.0</td>\n",
       "      <td>3.0</td>\n",
       "      <td>1.0</td>\n",
       "      <td>0.0</td>\n",
       "      <td>2017-03-03 12:04:50.987</td>\n",
       "      <td>2022-05-19 15:57:12.960</td>\n",
       "      <td>352.0</td>\n",
       "    </tr>\n",
       "    <tr>\n",
       "      <th>1</th>\n",
       "      <td>343050</td>\n",
       "      <td>51</td>\n",
       "      <td>1</td>\n",
       "      <td>479.0</td>\n",
       "      <td>2</td>\n",
       "      <td>2</td>\n",
       "      <td>Airtel</td>\n",
       "      <td>6.0</td>\n",
       "      <td>2.0</td>\n",
       "      <td>3.0</td>\n",
       "      <td>3.0</td>\n",
       "      <td>1.0</td>\n",
       "      <td>0.0</td>\n",
       "      <td>2011-08-09 15:04:38.647</td>\n",
       "      <td>2022-05-04 10:18:58.587</td>\n",
       "      <td>352.0</td>\n",
       "    </tr>\n",
       "    <tr>\n",
       "      <th>2</th>\n",
       "      <td>190431</td>\n",
       "      <td>3039</td>\n",
       "      <td>1</td>\n",
       "      <td>0.0</td>\n",
       "      <td>3</td>\n",
       "      <td>3</td>\n",
       "      <td>AEPS Balance Services</td>\n",
       "      <td>42.0</td>\n",
       "      <td>5.0</td>\n",
       "      <td>68.0</td>\n",
       "      <td>7.0</td>\n",
       "      <td>1.0</td>\n",
       "      <td>0.0</td>\n",
       "      <td>2017-05-02 18:11:57.090</td>\n",
       "      <td>2020-07-07 21:16:27.810</td>\n",
       "      <td>140.0</td>\n",
       "    </tr>\n",
       "    <tr>\n",
       "      <th>3</th>\n",
       "      <td>190431</td>\n",
       "      <td>3039</td>\n",
       "      <td>1</td>\n",
       "      <td>0.0</td>\n",
       "      <td>3</td>\n",
       "      <td>3</td>\n",
       "      <td>AEPS Balance Services</td>\n",
       "      <td>42.0</td>\n",
       "      <td>5.0</td>\n",
       "      <td>68.0</td>\n",
       "      <td>7.0</td>\n",
       "      <td>1.0</td>\n",
       "      <td>0.0</td>\n",
       "      <td>2017-05-02 18:11:57.090</td>\n",
       "      <td>2020-07-07 21:16:27.810</td>\n",
       "      <td>140.0</td>\n",
       "    </tr>\n",
       "    <tr>\n",
       "      <th>4</th>\n",
       "      <td>190431</td>\n",
       "      <td>3039</td>\n",
       "      <td>1</td>\n",
       "      <td>0.0</td>\n",
       "      <td>3</td>\n",
       "      <td>3</td>\n",
       "      <td>AEPS Balance Services</td>\n",
       "      <td>42.0</td>\n",
       "      <td>5.0</td>\n",
       "      <td>68.0</td>\n",
       "      <td>7.0</td>\n",
       "      <td>1.0</td>\n",
       "      <td>0.0</td>\n",
       "      <td>2017-05-02 18:11:57.090</td>\n",
       "      <td>2020-07-07 21:16:27.810</td>\n",
       "      <td>140.0</td>\n",
       "    </tr>\n",
       "  </tbody>\n",
       "</table>\n",
       "</div>"
      ],
      "text/plain": [
       "   BusinessId  ProductId  PayModeId  Amount  Status  IsReversed  \\\n",
       "0      343554         49          1   666.0       3           1   \n",
       "1      343050         51          1   479.0       2           2   \n",
       "2      190431       3039          1     0.0       3           3   \n",
       "3      190431       3039          1     0.0       3           3   \n",
       "4      190431       3039          1     0.0       3           3   \n",
       "\n",
       "                 Product  AggregatorId  ServiceId  OperatorId  DomainId  \\\n",
       "0           Reliance JIO           6.0        2.0        13.0       3.0   \n",
       "1                 Airtel           6.0        2.0         3.0       3.0   \n",
       "2  AEPS Balance Services          42.0        5.0        68.0       7.0   \n",
       "3  AEPS Balance Services          42.0        5.0        68.0       7.0   \n",
       "4  AEPS Balance Services          42.0        5.0        68.0       7.0   \n",
       "\n",
       "   IsActive  IsTerminate                CreatedOn                 UpdateOn  \\\n",
       "0       1.0          0.0  2017-03-03 12:04:50.987  2022-05-19 15:57:12.960   \n",
       "1       1.0          0.0  2011-08-09 15:04:38.647  2022-05-04 10:18:58.587   \n",
       "2       1.0          0.0  2017-05-02 18:11:57.090  2020-07-07 21:16:27.810   \n",
       "3       1.0          0.0  2017-05-02 18:11:57.090  2020-07-07 21:16:27.810   \n",
       "4       1.0          0.0  2017-05-02 18:11:57.090  2020-07-07 21:16:27.810   \n",
       "\n",
       "   UpdateBy  \n",
       "0     352.0  \n",
       "1     352.0  \n",
       "2     140.0  \n",
       "3     140.0  \n",
       "4     140.0  "
      ]
     },
     "execution_count": 348,
     "metadata": {},
     "output_type": "execute_result"
    }
   ],
   "source": [
    "final_df=pd.merge(final,product_data,on='ProductId', how='left')\n",
    "final_df.head()\n",
    "# final_df.shape"
   ]
  },
  {
   "cell_type": "code",
   "execution_count": 321,
   "id": "ed9f9530",
   "metadata": {},
   "outputs": [
    {
     "data": {
      "text/plain": [
       "BusinessId      0\n",
       "ProductId       0\n",
       "PayModeId       0\n",
       "Amount          0\n",
       "Status          0\n",
       "IsReversed      0\n",
       "Product         1\n",
       "AggregatorId    1\n",
       "ServiceId       1\n",
       "OperatorId      1\n",
       "DomainId        1\n",
       "IsActive        1\n",
       "IsTerminate     1\n",
       "CreatedOn       1\n",
       "UpdateOn        1\n",
       "UpdateBy        1\n",
       "dtype: int64"
      ]
     },
     "execution_count": 321,
     "metadata": {},
     "output_type": "execute_result"
    }
   ],
   "source": [
    "final_df.isnull().sum()"
   ]
  },
  {
   "cell_type": "code",
   "execution_count": 322,
   "id": "99a1ba12",
   "metadata": {},
   "outputs": [
    {
     "data": {
      "text/html": [
       "<div>\n",
       "<style scoped>\n",
       "    .dataframe tbody tr th:only-of-type {\n",
       "        vertical-align: middle;\n",
       "    }\n",
       "\n",
       "    .dataframe tbody tr th {\n",
       "        vertical-align: top;\n",
       "    }\n",
       "\n",
       "    .dataframe thead th {\n",
       "        text-align: right;\n",
       "    }\n",
       "</style>\n",
       "<table border=\"1\" class=\"dataframe\">\n",
       "  <thead>\n",
       "    <tr style=\"text-align: right;\">\n",
       "      <th></th>\n",
       "      <th>Product</th>\n",
       "      <th>Count</th>\n",
       "    </tr>\n",
       "  </thead>\n",
       "  <tbody>\n",
       "    <tr>\n",
       "      <th>0</th>\n",
       "      <td>FLIGHT</td>\n",
       "      <td>8</td>\n",
       "    </tr>\n",
       "    <tr>\n",
       "      <th>1</th>\n",
       "      <td>IDFC FIRST Bank - FasTag</td>\n",
       "      <td>15</td>\n",
       "    </tr>\n",
       "    <tr>\n",
       "      <th>2</th>\n",
       "      <td>Top-Up PaypointZ Wallet</td>\n",
       "      <td>6</td>\n",
       "    </tr>\n",
       "    <tr>\n",
       "      <th>3</th>\n",
       "      <td>Wallet Money Transfer With TopUp</td>\n",
       "      <td>25</td>\n",
       "    </tr>\n",
       "  </tbody>\n",
       "</table>\n",
       "</div>"
      ],
      "text/plain": [
       "                            Product  Count\n",
       "0                            FLIGHT      8\n",
       "1          IDFC FIRST Bank - FasTag     15\n",
       "2           Top-Up PaypointZ Wallet      6\n",
       "3  Wallet Money Transfer With TopUp     25"
      ]
     },
     "execution_count": 322,
     "metadata": {},
     "output_type": "execute_result"
    }
   ],
   "source": [
    "final_df[final_df['Amount'] > 20000].groupby('Product').size().reset_index().rename(columns={0:'Count'})\n",
    "final_df[final_df['Amount'] > 20000].groupby('Product').size().reset_index().rename(columns={0:'Count'})"
   ]
  },
  {
   "cell_type": "code",
   "execution_count": 323,
   "id": "863bfab0",
   "metadata": {},
   "outputs": [
    {
     "data": {
      "application/javascript": [
       "\n",
       "        if (window._pyforest_update_imports_cell) { window._pyforest_update_imports_cell('import matplotlib.pyplot as plt'); }\n",
       "    "
      ],
      "text/plain": [
       "<IPython.core.display.Javascript object>"
      ]
     },
     "metadata": {},
     "output_type": "display_data"
    },
    {
     "data": {
      "text/plain": [
       "([<matplotlib.patches.Wedge at 0x17cab24f3a0>,\n",
       "  <matplotlib.patches.Wedge at 0x17c95492100>,\n",
       "  <matplotlib.patches.Wedge at 0x17c95492610>,\n",
       "  <matplotlib.patches.Wedge at 0x17ca724be50>,\n",
       "  <matplotlib.patches.Wedge at 0x17ca724b550>],\n",
       " [Text(0.4209712812390078, 1.0162594060435497, 'AEPS Withdrawal Services'),\n",
       "  Text(-1.0793633373254699, -0.21207259614958332, 'AEPS Balance Services'),\n",
       "  Text(0.06396955523813622, -1.0981383774382147, 'AEPS Mini Statement'),\n",
       "  Text(0.8691873179349586, -0.6741760944597733, 'BC Money Transfer'),\n",
       "  Text(1.0905504606492011, -0.14387387802452326, 'MATM Cash Withdraw')],\n",
       " [Text(0.22962069885764058, 0.5543233123873906, '37.50%'),\n",
       "  Text(-0.5887436385411653, -0.11567596153613634, '31.18%'),\n",
       "  Text(0.03489248467534702, -0.5989845695117535, '14.50%'),\n",
       "  Text(0.4741021734190683, -0.36773241515987637, '12.65%'),\n",
       "  Text(0.5948457058086551, -0.07847666074064903, '4.18%')])"
      ]
     },
     "execution_count": 323,
     "metadata": {},
     "output_type": "execute_result"
    },
    {
     "data": {
      "image/png": "[encoded data removed]",
      "text/plain": [
       "<Figure size 504x252 with 1 Axes>"
      ]
     },
     "metadata": {},
     "output_type": "display_data"
    }
   ],
   "source": [
    "Product_names=final_df.Product.value_counts().index\n",
    "Product_val=final_df.Product.value_counts().values\n",
    "plt.pie(Product_val[:5],labels=Product_names[:5],autopct='%1.2f%%')"
   ]
  },
  {
   "cell_type": "markdown",
   "id": "4f26abe0",
   "metadata": {},
   "source": [
    "## Amount Vs Status"
   ]
  },
  {
   "cell_type": "code",
   "execution_count": 324,
   "id": "a866ce85",
   "metadata": {},
   "outputs": [
    {
     "data": {
      "text/plain": [
       "2    88279\n",
       "3    52468\n",
       "6      221\n",
       "5       28\n",
       "1        6\n",
       "Name: Status, dtype: int64"
      ]
     },
     "execution_count": 324,
     "metadata": {},
     "output_type": "execute_result"
    }
   ],
   "source": [
    "df['Status'].value_counts()\n",
    "# 1 - inProcess\n",
    "# 2 - Success\n",
    "# 3 - Failed\n",
    "# 4 - Rejected\n",
    "# 5 - Partial Sucess\n",
    "# 6 - Cancelled"
   ]
  },
  {
   "cell_type": "code",
   "execution_count": 325,
   "id": "a163dccd",
   "metadata": {},
   "outputs": [
    {
     "name": "stderr",
     "output_type": "stream",
     "text": [
      "C:\\Users\\ANKUR\\anaconda3\\lib\\site-packages\\seaborn\\_decorators.py:36: FutureWarning: Pass the following variable as a keyword arg: x. From version 0.12, the only valid positional argument will be `data`, and passing other arguments without an explicit keyword will result in an error or misinterpretation.\n",
      "  warnings.warn(\n"
     ]
    },
    {
     "data": {
      "text/plain": [
       "<AxesSubplot:xlabel='Status', ylabel='count'>"
      ]
     },
     "execution_count": 325,
     "metadata": {},
     "output_type": "execute_result"
    },
    {
     "data": {
      "image/png": "[encoded data removed]",
      "text/plain": [
       "<Figure size 504x252 with 1 Axes>"
      ]
     },
     "metadata": {
      "needs_background": "light"
     },
     "output_type": "display_data"
    }
   ],
   "source": [
    "sns.countplot(df['Status'])"
   ]
  },
  {
   "cell_type": "code",
   "execution_count": 326,
   "id": "736c5491",
   "metadata": {},
   "outputs": [],
   "source": [
    "status_values=final.Status.value_counts().values\n",
    "status_labels=final.Status.value_counts().index"
   ]
  },
  {
   "cell_type": "code",
   "execution_count": 327,
   "id": "c82ae97b",
   "metadata": {},
   "outputs": [
    {
     "data": {
      "application/javascript": [
       "\n",
       "        if (window._pyforest_update_imports_cell) { window._pyforest_update_imports_cell('import matplotlib.pyplot as plt'); }\n",
       "    "
      ],
      "text/plain": [
       "<IPython.core.display.Javascript object>"
      ]
     },
     "metadata": {},
     "output_type": "display_data"
    },
    {
     "data": {
      "text/plain": [
       "([<matplotlib.patches.Wedge at 0x17c95889a60>,\n",
       "  <matplotlib.patches.Wedge at 0x17c95889e20>,\n",
       "  <matplotlib.patches.Wedge at 0x17c95777100>,\n",
       "  <matplotlib.patches.Wedge at 0x17c95782b50>,\n",
       "  <matplotlib.patches.Wedge at 0x17c957829a0>],\n",
       " [Text(-0.4244080273383064, 1.0148289640775965, '2'),\n",
       "  Text(0.41863540438556324, -1.017223868278235, '3'),\n",
       "  Text(1.0999771958435531, -0.0070829813040659976, '6'),\n",
       "  Text(1.099999563092661, -0.0009804060154776427, '5'),\n",
       "  Text(1.0999999901622053, -0.00014711610468075485, '1')],\n",
       " [Text(-0.2314952876390762, 0.5535430713150525, '62.61%'),\n",
       "  Text(0.22834658421030718, -0.5548493826972191, '37.21%'),\n",
       "  Text(0.5999875613692107, -0.003863444347672362, '0.16%'),\n",
       "  Text(0.5999997616869059, -0.0005347669175332597, '0.02%'),\n",
       "  Text(0.5999999946339302, -8.024514800768445e-05, '0.00%')])"
      ]
     },
     "execution_count": 327,
     "metadata": {},
     "output_type": "execute_result"
    },
    {
     "data": {
      "image/png": "[encoded data removed]",
      "text/plain": [
       "<Figure size 504x252 with 1 Axes>"
      ]
     },
     "metadata": {},
     "output_type": "display_data"
    }
   ],
   "source": [
    "plt.pie(status_values,labels=status_labels,autopct='%1.2f%%')"
   ]
  },
  {
   "cell_type": "code",
   "execution_count": 328,
   "id": "d1609d33",
   "metadata": {},
   "outputs": [
    {
     "data": {
      "text/html": [
       "<div>\n",
       "<style scoped>\n",
       "    .dataframe tbody tr th:only-of-type {\n",
       "        vertical-align: middle;\n",
       "    }\n",
       "\n",
       "    .dataframe tbody tr th {\n",
       "        vertical-align: top;\n",
       "    }\n",
       "\n",
       "    .dataframe thead th {\n",
       "        text-align: right;\n",
       "    }\n",
       "</style>\n",
       "<table border=\"1\" class=\"dataframe\">\n",
       "  <thead>\n",
       "    <tr style=\"text-align: right;\">\n",
       "      <th></th>\n",
       "      <th>Product</th>\n",
       "      <th>Count</th>\n",
       "    </tr>\n",
       "  </thead>\n",
       "  <tbody>\n",
       "    <tr>\n",
       "      <th>0</th>\n",
       "      <td>AEPS Balance Services</td>\n",
       "      <td>17927</td>\n",
       "    </tr>\n",
       "    <tr>\n",
       "      <th>1</th>\n",
       "      <td>AEPS Mini Statement</td>\n",
       "      <td>7193</td>\n",
       "    </tr>\n",
       "    <tr>\n",
       "      <th>2</th>\n",
       "      <td>AEPS Withdrawal Services</td>\n",
       "      <td>20183</td>\n",
       "    </tr>\n",
       "    <tr>\n",
       "      <th>3</th>\n",
       "      <td>Aadhaar Pay</td>\n",
       "      <td>1100</td>\n",
       "    </tr>\n",
       "    <tr>\n",
       "      <th>4</th>\n",
       "      <td>Adani Electricity Mumbai Limited</td>\n",
       "      <td>19</td>\n",
       "    </tr>\n",
       "    <tr>\n",
       "      <th>5</th>\n",
       "      <td>Airtel</td>\n",
       "      <td>205</td>\n",
       "    </tr>\n",
       "    <tr>\n",
       "      <th>6</th>\n",
       "      <td>Airtel DTH</td>\n",
       "      <td>16</td>\n",
       "    </tr>\n",
       "    <tr>\n",
       "      <th>7</th>\n",
       "      <td>Airtel Mobile Bill Payment</td>\n",
       "      <td>6</td>\n",
       "    </tr>\n",
       "    <tr>\n",
       "      <th>8</th>\n",
       "      <td>Assam Power Distribution Company Ltd (NON-RAPDR)</td>\n",
       "      <td>3</td>\n",
       "    </tr>\n",
       "    <tr>\n",
       "      <th>9</th>\n",
       "      <td>Axis Bank FASTag</td>\n",
       "      <td>2</td>\n",
       "    </tr>\n",
       "    <tr>\n",
       "      <th>10</th>\n",
       "      <td>BC Money Transfer</td>\n",
       "      <td>1513</td>\n",
       "    </tr>\n",
       "    <tr>\n",
       "      <th>11</th>\n",
       "      <td>BSNL - Recharge</td>\n",
       "      <td>30</td>\n",
       "    </tr>\n",
       "    <tr>\n",
       "      <th>12</th>\n",
       "      <td>Bajaj Finance</td>\n",
       "      <td>2</td>\n",
       "    </tr>\n",
       "    <tr>\n",
       "      <th>13</th>\n",
       "      <td>Bank AC Validation</td>\n",
       "      <td>33</td>\n",
       "    </tr>\n",
       "    <tr>\n",
       "      <th>14</th>\n",
       "      <td>Bank AC Validation Free</td>\n",
       "      <td>71</td>\n",
       "    </tr>\n",
       "    <tr>\n",
       "      <th>15</th>\n",
       "      <td>Bharat Gas (BPCL)</td>\n",
       "      <td>3</td>\n",
       "    </tr>\n",
       "    <tr>\n",
       "      <th>16</th>\n",
       "      <td>Bus Booking</td>\n",
       "      <td>4</td>\n",
       "    </tr>\n",
       "    <tr>\n",
       "      <th>17</th>\n",
       "      <td>CMS</td>\n",
       "      <td>2</td>\n",
       "    </tr>\n",
       "    <tr>\n",
       "      <th>18</th>\n",
       "      <td>CSPDCL</td>\n",
       "      <td>18</td>\n",
       "    </tr>\n",
       "    <tr>\n",
       "      <th>19</th>\n",
       "      <td>Dish TV</td>\n",
       "      <td>11</td>\n",
       "    </tr>\n",
       "    <tr>\n",
       "      <th>20</th>\n",
       "      <td>FLIGHT</td>\n",
       "      <td>13</td>\n",
       "    </tr>\n",
       "    <tr>\n",
       "      <th>21</th>\n",
       "      <td>Fastag Issue</td>\n",
       "      <td>16</td>\n",
       "    </tr>\n",
       "    <tr>\n",
       "      <th>22</th>\n",
       "      <td>Flipkart E-Gift Voucher</td>\n",
       "      <td>3</td>\n",
       "    </tr>\n",
       "    <tr>\n",
       "      <th>23</th>\n",
       "      <td>Goa Electricity Department</td>\n",
       "      <td>1</td>\n",
       "    </tr>\n",
       "    <tr>\n",
       "      <th>24</th>\n",
       "      <td>Home Credit India Finance Pvt. Ltd</td>\n",
       "      <td>1</td>\n",
       "    </tr>\n",
       "    <tr>\n",
       "      <th>25</th>\n",
       "      <td>ICICI Bank Fastag</td>\n",
       "      <td>7</td>\n",
       "    </tr>\n",
       "    <tr>\n",
       "      <th>26</th>\n",
       "      <td>IDFC FIRST Bank - FasTag</td>\n",
       "      <td>2</td>\n",
       "    </tr>\n",
       "    <tr>\n",
       "      <th>27</th>\n",
       "      <td>IRCTC</td>\n",
       "      <td>224</td>\n",
       "    </tr>\n",
       "    <tr>\n",
       "      <th>28</th>\n",
       "      <td>Indane Gas (Indian Oil)</td>\n",
       "      <td>4</td>\n",
       "    </tr>\n",
       "    <tr>\n",
       "      <th>29</th>\n",
       "      <td>JioSaavn Subscription</td>\n",
       "      <td>3</td>\n",
       "    </tr>\n",
       "    <tr>\n",
       "      <th>30</th>\n",
       "      <td>Kotak Mahindra Bank - Fastag Recharge via bbps</td>\n",
       "      <td>1</td>\n",
       "    </tr>\n",
       "    <tr>\n",
       "      <th>31</th>\n",
       "      <td>L and T Financial Services</td>\n",
       "      <td>1</td>\n",
       "    </tr>\n",
       "    <tr>\n",
       "      <th>32</th>\n",
       "      <td>MATM Balance Inquiry</td>\n",
       "      <td>1103</td>\n",
       "    </tr>\n",
       "    <tr>\n",
       "      <th>33</th>\n",
       "      <td>MATM Cash Withdraw</td>\n",
       "      <td>2091</td>\n",
       "    </tr>\n",
       "    <tr>\n",
       "      <th>34</th>\n",
       "      <td>MCGM Water Department</td>\n",
       "      <td>1</td>\n",
       "    </tr>\n",
       "    <tr>\n",
       "      <th>35</th>\n",
       "      <td>MSEDCL - MAHARASHTRA</td>\n",
       "      <td>18</td>\n",
       "    </tr>\n",
       "    <tr>\n",
       "      <th>36</th>\n",
       "      <td>MTNL - TOP UP</td>\n",
       "      <td>1</td>\n",
       "    </tr>\n",
       "    <tr>\n",
       "      <th>37</th>\n",
       "      <td>Mahindra and Mahindra Financial Services Limited</td>\n",
       "      <td>1</td>\n",
       "    </tr>\n",
       "    <tr>\n",
       "      <th>38</th>\n",
       "      <td>Muthoot Microfin Limited</td>\n",
       "      <td>1</td>\n",
       "    </tr>\n",
       "    <tr>\n",
       "      <th>39</th>\n",
       "      <td>Nepal Money Transfer</td>\n",
       "      <td>1</td>\n",
       "    </tr>\n",
       "    <tr>\n",
       "      <th>40</th>\n",
       "      <td>North Bihar Power Distribution Company Ltd.</td>\n",
       "      <td>1</td>\n",
       "    </tr>\n",
       "    <tr>\n",
       "      <th>41</th>\n",
       "      <td>PANCard Application</td>\n",
       "      <td>30</td>\n",
       "    </tr>\n",
       "    <tr>\n",
       "      <th>42</th>\n",
       "      <td>PayPoint Card Inventory</td>\n",
       "      <td>1</td>\n",
       "    </tr>\n",
       "    <tr>\n",
       "      <th>43</th>\n",
       "      <td>PayPoint Card Issuance</td>\n",
       "      <td>1</td>\n",
       "    </tr>\n",
       "    <tr>\n",
       "      <th>44</th>\n",
       "      <td>Paytm Payments Bank FASTag</td>\n",
       "      <td>14</td>\n",
       "    </tr>\n",
       "    <tr>\n",
       "      <th>45</th>\n",
       "      <td>Punjab State Power Corporation Ltd (PSPCL)</td>\n",
       "      <td>1</td>\n",
       "    </tr>\n",
       "    <tr>\n",
       "      <th>46</th>\n",
       "      <td>Reliance JIO</td>\n",
       "      <td>303</td>\n",
       "    </tr>\n",
       "    <tr>\n",
       "      <th>47</th>\n",
       "      <td>SUN DTH</td>\n",
       "      <td>58</td>\n",
       "    </tr>\n",
       "    <tr>\n",
       "      <th>48</th>\n",
       "      <td>Tamil Nadu Electricity Board (TNEB)</td>\n",
       "      <td>1</td>\n",
       "    </tr>\n",
       "    <tr>\n",
       "      <th>49</th>\n",
       "      <td>Tata Play</td>\n",
       "      <td>11</td>\n",
       "    </tr>\n",
       "    <tr>\n",
       "      <th>50</th>\n",
       "      <td>Tata Power - Mumbai</td>\n",
       "      <td>6</td>\n",
       "    </tr>\n",
       "    <tr>\n",
       "      <th>51</th>\n",
       "      <td>Top-Up PaypointZ Wallet</td>\n",
       "      <td>69</td>\n",
       "    </tr>\n",
       "    <tr>\n",
       "      <th>52</th>\n",
       "      <td>Uttar Pradesh Power Corp Ltd (UPPCL) RURAL</td>\n",
       "      <td>1</td>\n",
       "    </tr>\n",
       "    <tr>\n",
       "      <th>53</th>\n",
       "      <td>VI</td>\n",
       "      <td>54</td>\n",
       "    </tr>\n",
       "    <tr>\n",
       "      <th>54</th>\n",
       "      <td>Videocon DTH</td>\n",
       "      <td>5</td>\n",
       "    </tr>\n",
       "    <tr>\n",
       "      <th>55</th>\n",
       "      <td>Vodafone Idea Limited(VIL)</td>\n",
       "      <td>2</td>\n",
       "    </tr>\n",
       "    <tr>\n",
       "      <th>56</th>\n",
       "      <td>Wallet Money Transfer With TopUp</td>\n",
       "      <td>34</td>\n",
       "    </tr>\n",
       "    <tr>\n",
       "      <th>57</th>\n",
       "      <td>West Bengal Electricity Board(WBSEDCL)</td>\n",
       "      <td>41</td>\n",
       "    </tr>\n",
       "  </tbody>\n",
       "</table>\n",
       "</div>"
      ],
      "text/plain": [
       "                                             Product  Count\n",
       "0                              AEPS Balance Services  17927\n",
       "1                                AEPS Mini Statement   7193\n",
       "2                           AEPS Withdrawal Services  20183\n",
       "3                                        Aadhaar Pay   1100\n",
       "4                   Adani Electricity Mumbai Limited     19\n",
       "5                                             Airtel    205\n",
       "6                                         Airtel DTH     16\n",
       "7                         Airtel Mobile Bill Payment      6\n",
       "8   Assam Power Distribution Company Ltd (NON-RAPDR)      3\n",
       "9                                   Axis Bank FASTag      2\n",
       "10                                 BC Money Transfer   1513\n",
       "11                                   BSNL - Recharge     30\n",
       "12                                     Bajaj Finance      2\n",
       "13                                Bank AC Validation     33\n",
       "14                           Bank AC Validation Free     71\n",
       "15                                 Bharat Gas (BPCL)      3\n",
       "16                                       Bus Booking      4\n",
       "17                                               CMS      2\n",
       "18                                            CSPDCL     18\n",
       "19                                           Dish TV     11\n",
       "20                                            FLIGHT     13\n",
       "21                                      Fastag Issue     16\n",
       "22                           Flipkart E-Gift Voucher      3\n",
       "23                        Goa Electricity Department      1\n",
       "24                Home Credit India Finance Pvt. Ltd      1\n",
       "25                                 ICICI Bank Fastag      7\n",
       "26                          IDFC FIRST Bank - FasTag      2\n",
       "27                                             IRCTC    224\n",
       "28                           Indane Gas (Indian Oil)      4\n",
       "29                             JioSaavn Subscription      3\n",
       "30    Kotak Mahindra Bank - Fastag Recharge via bbps      1\n",
       "31                        L and T Financial Services      1\n",
       "32                              MATM Balance Inquiry   1103\n",
       "33                                MATM Cash Withdraw   2091\n",
       "34                             MCGM Water Department      1\n",
       "35                              MSEDCL - MAHARASHTRA     18\n",
       "36                                     MTNL - TOP UP      1\n",
       "37  Mahindra and Mahindra Financial Services Limited      1\n",
       "38                          Muthoot Microfin Limited      1\n",
       "39                              Nepal Money Transfer      1\n",
       "40       North Bihar Power Distribution Company Ltd.      1\n",
       "41                               PANCard Application     30\n",
       "42                           PayPoint Card Inventory      1\n",
       "43                            PayPoint Card Issuance      1\n",
       "44                        Paytm Payments Bank FASTag     14\n",
       "45        Punjab State Power Corporation Ltd (PSPCL)      1\n",
       "46                                      Reliance JIO    303\n",
       "47                                           SUN DTH     58\n",
       "48               Tamil Nadu Electricity Board (TNEB)      1\n",
       "49                                         Tata Play     11\n",
       "50                               Tata Power - Mumbai      6\n",
       "51                           Top-Up PaypointZ Wallet     69\n",
       "52        Uttar Pradesh Power Corp Ltd (UPPCL) RURAL      1\n",
       "53                                                VI     54\n",
       "54                                      Videocon DTH      5\n",
       "55                        Vodafone Idea Limited(VIL)      2\n",
       "56                  Wallet Money Transfer With TopUp     34\n",
       "57            West Bengal Electricity Board(WBSEDCL)     41"
      ]
     },
     "execution_count": 328,
     "metadata": {},
     "output_type": "execute_result"
    }
   ],
   "source": [
    "# For failed Transactions\n",
    "#dd = final[final['Status'] == 3].groupby('Amount').size().reset_index().rename(columns={0:'Count'})\n",
    "de = final_df[final_df['Status'] == 3].groupby('Product').size().reset_index().rename(columns={0:'Count'})\n",
    "de"
   ]
  },
  {
   "cell_type": "code",
   "execution_count": 329,
   "id": "bf6bdca3",
   "metadata": {},
   "outputs": [
    {
     "data": {
      "text/plain": [
       "65942785.89"
      ]
     },
     "execution_count": 329,
     "metadata": {},
     "output_type": "execute_result"
    }
   ],
   "source": [
    "np.sum(dd['Amount']*dd['Count'])"
   ]
  },
  {
   "cell_type": "markdown",
   "id": "9b8c061e",
   "metadata": {},
   "source": [
    "### Observations:\n",
    "1. total of 65942785 rupees transaction is failed."
   ]
  },
  {
   "cell_type": "code",
   "execution_count": 330,
   "id": "a170bc45",
   "metadata": {},
   "outputs": [
    {
     "data": {
      "text/plain": [
       "113263474.18"
      ]
     },
     "execution_count": 330,
     "metadata": {},
     "output_type": "execute_result"
    }
   ],
   "source": [
    "# for sucessfull transaction\n",
    "dh = final[final['Status'] == 2].groupby('Amount').size().reset_index().rename(columns={0:'Count'})\n",
    "dg = final_df[final_df['Status'] == 2].groupby('Product').size().reset_index().rename(columns={0:'Count'})\n",
    "dg\n",
    "np.sum(dh['Amount']*dh['Count'])"
   ]
  },
  {
   "cell_type": "code",
   "execution_count": 342,
   "id": "dfccda34",
   "metadata": {},
   "outputs": [
    {
     "data": {
      "application/javascript": [
       "\n",
       "        if (window._pyforest_update_imports_cell) { window._pyforest_update_imports_cell('import matplotlib.pyplot as plt'); }\n",
       "    "
      ],
      "text/plain": [
       "<IPython.core.display.Javascript object>"
      ]
     },
     "metadata": {},
     "output_type": "display_data"
    },
    {
     "data": {
      "application/javascript": [
       "\n",
       "        if (window._pyforest_update_imports_cell) { window._pyforest_update_imports_cell('import matplotlib.pyplot as plt'); }\n",
       "    "
      ],
      "text/plain": [
       "<IPython.core.display.Javascript object>"
      ]
     },
     "metadata": {},
     "output_type": "display_data"
    },
    {
     "data": {
      "application/javascript": [
       "\n",
       "        if (window._pyforest_update_imports_cell) { window._pyforest_update_imports_cell('import matplotlib.pyplot as plt'); }\n",
       "    "
      ],
      "text/plain": [
       "<IPython.core.display.Javascript object>"
      ]
     },
     "metadata": {},
     "output_type": "display_data"
    },
    {
     "data": {
      "image/png": "[encoded data removed]",
      "text/plain": [
       "<Figure size 504x252 with 1 Axes>"
      ]
     },
     "metadata": {
      "needs_background": "light"
     },
     "output_type": "display_data"
    }
   ],
   "source": [
    "plt.rcParams[\"figure.figsize\"] = [7.00, 3.50]\n",
    "plt.rcParams[\"figure.autolayout\"] = True\n",
    "ax = sns.barplot(y = 'Amount',x = \"Status\",data= final,palette= ['blue','red','orange','yellow','green','green'])\n",
    "for p in ax.patches:\n",
    "    ax.annotate('{:.0f}'.format(p.get_height()), (p.get_x()+0.25, p.get_height()+0.01))\n",
    "plt.show()"
   ]
  },
  {
   "cell_type": "code",
   "execution_count": 343,
   "id": "6cd5838c",
   "metadata": {},
   "outputs": [
    {
     "data": {
      "text/html": [
       "<div>\n",
       "<style scoped>\n",
       "    .dataframe tbody tr th:only-of-type {\n",
       "        vertical-align: middle;\n",
       "    }\n",
       "\n",
       "    .dataframe tbody tr th {\n",
       "        vertical-align: top;\n",
       "    }\n",
       "\n",
       "    .dataframe thead th {\n",
       "        text-align: right;\n",
       "    }\n",
       "</style>\n",
       "<table border=\"1\" class=\"dataframe\">\n",
       "  <thead>\n",
       "    <tr style=\"text-align: right;\">\n",
       "      <th></th>\n",
       "      <th>ProductId</th>\n",
       "      <th>Amount</th>\n",
       "      <th>0</th>\n",
       "    </tr>\n",
       "  </thead>\n",
       "  <tbody>\n",
       "    <tr>\n",
       "      <th>0</th>\n",
       "      <td>22</td>\n",
       "      <td>30.0</td>\n",
       "      <td>1</td>\n",
       "    </tr>\n",
       "    <tr>\n",
       "      <th>1</th>\n",
       "      <td>22</td>\n",
       "      <td>40.0</td>\n",
       "      <td>2</td>\n",
       "    </tr>\n",
       "    <tr>\n",
       "      <th>2</th>\n",
       "      <td>22</td>\n",
       "      <td>50.0</td>\n",
       "      <td>3</td>\n",
       "    </tr>\n",
       "    <tr>\n",
       "      <th>3</th>\n",
       "      <td>22</td>\n",
       "      <td>60.0</td>\n",
       "      <td>1</td>\n",
       "    </tr>\n",
       "    <tr>\n",
       "      <th>4</th>\n",
       "      <td>22</td>\n",
       "      <td>70.0</td>\n",
       "      <td>2</td>\n",
       "    </tr>\n",
       "    <tr>\n",
       "      <th>...</th>\n",
       "      <td>...</td>\n",
       "      <td>...</td>\n",
       "      <td>...</td>\n",
       "    </tr>\n",
       "    <tr>\n",
       "      <th>4722</th>\n",
       "      <td>3049</td>\n",
       "      <td>10000.0</td>\n",
       "      <td>253</td>\n",
       "    </tr>\n",
       "    <tr>\n",
       "      <th>4723</th>\n",
       "      <td>3053</td>\n",
       "      <td>100.0</td>\n",
       "      <td>1</td>\n",
       "    </tr>\n",
       "    <tr>\n",
       "      <th>4724</th>\n",
       "      <td>3053</td>\n",
       "      <td>20000.0</td>\n",
       "      <td>1</td>\n",
       "    </tr>\n",
       "    <tr>\n",
       "      <th>4725</th>\n",
       "      <td>3054</td>\n",
       "      <td>1.0</td>\n",
       "      <td>152</td>\n",
       "    </tr>\n",
       "    <tr>\n",
       "      <th>4726</th>\n",
       "      <td>4001</td>\n",
       "      <td>500.0</td>\n",
       "      <td>1</td>\n",
       "    </tr>\n",
       "  </tbody>\n",
       "</table>\n",
       "<p>4727 rows × 3 columns</p>\n",
       "</div>"
      ],
      "text/plain": [
       "      ProductId   Amount    0\n",
       "0            22     30.0    1\n",
       "1            22     40.0    2\n",
       "2            22     50.0    3\n",
       "3            22     60.0    1\n",
       "4            22     70.0    2\n",
       "...         ...      ...  ...\n",
       "4722       3049  10000.0  253\n",
       "4723       3053    100.0    1\n",
       "4724       3053  20000.0    1\n",
       "4725       3054      1.0  152\n",
       "4726       4001    500.0    1\n",
       "\n",
       "[4727 rows x 3 columns]"
      ]
     },
     "execution_count": 343,
     "metadata": {},
     "output_type": "execute_result"
    }
   ],
   "source": [
    "final[['ProductId','Amount']].groupby(['ProductId','Amount']).size().reset_index()"
   ]
  },
  {
   "cell_type": "code",
   "execution_count": 344,
   "id": "a635414d",
   "metadata": {},
   "outputs": [
    {
     "name": "stdout",
     "output_type": "stream",
     "text": [
      "(7, 7)\n"
     ]
    },
    {
     "data": {
      "text/html": [
       "<div>\n",
       "<style scoped>\n",
       "    .dataframe tbody tr th:only-of-type {\n",
       "        vertical-align: middle;\n",
       "    }\n",
       "\n",
       "    .dataframe tbody tr th {\n",
       "        vertical-align: top;\n",
       "    }\n",
       "\n",
       "    .dataframe thead th {\n",
       "        text-align: right;\n",
       "    }\n",
       "</style>\n",
       "<table border=\"1\" class=\"dataframe\">\n",
       "  <thead>\n",
       "    <tr style=\"text-align: right;\">\n",
       "      <th></th>\n",
       "      <th>ServiceId</th>\n",
       "      <th>ServiceType</th>\n",
       "      <th>UpdateOn</th>\n",
       "      <th>Status</th>\n",
       "      <th>UpdateBy</th>\n",
       "      <th>ServiceTypeID_Old</th>\n",
       "      <th>UpdateBy_Old</th>\n",
       "    </tr>\n",
       "  </thead>\n",
       "  <tbody>\n",
       "    <tr>\n",
       "      <th>0</th>\n",
       "      <td>1</td>\n",
       "      <td>Billing</td>\n",
       "      <td>2015-09-03 12:44:20.920</td>\n",
       "      <td>1</td>\n",
       "      <td>0</td>\n",
       "      <td>2CF1A98B-E329-4EC4-9132-B5D8FD8C973F</td>\n",
       "      <td>B2CBD355-885D-44AB-8246-94E2F3899182</td>\n",
       "    </tr>\n",
       "    <tr>\n",
       "      <th>1</th>\n",
       "      <td>2</td>\n",
       "      <td>E-Recharge</td>\n",
       "      <td>2011-04-28 13:34:13.220</td>\n",
       "      <td>1</td>\n",
       "      <td>0</td>\n",
       "      <td>5CAED230-F58C-4C51-B2FC-E549DC1F7C8C</td>\n",
       "      <td>2393F48C-B5E6-472F-AFF8-0CD521C7C0A9</td>\n",
       "    </tr>\n",
       "    <tr>\n",
       "      <th>2</th>\n",
       "      <td>3</td>\n",
       "      <td>Booking</td>\n",
       "      <td>2012-05-15 17:19:55.550</td>\n",
       "      <td>1</td>\n",
       "      <td>0</td>\n",
       "      <td>8F76AD01-3B34-44E8-948F-10E82C737011</td>\n",
       "      <td>3031D986-FD59-4D98-8C5C-C87E7460002B</td>\n",
       "    </tr>\n",
       "    <tr>\n",
       "      <th>3</th>\n",
       "      <td>4</td>\n",
       "      <td>Online Shopping</td>\n",
       "      <td>2015-08-21 12:39:24.853</td>\n",
       "      <td>1</td>\n",
       "      <td>0</td>\n",
       "      <td>AA11E88C-D242-4599-8F16-8021C4A9D4B9</td>\n",
       "      <td>77D67F9C-42E8-41E9-9A0E-B6C54F211CF3</td>\n",
       "    </tr>\n",
       "    <tr>\n",
       "      <th>4</th>\n",
       "      <td>5</td>\n",
       "      <td>Financial Service</td>\n",
       "      <td>2013-11-02 13:33:10.540</td>\n",
       "      <td>1</td>\n",
       "      <td>0</td>\n",
       "      <td>CC269D03-45D8-4921-8442-6FF8BCCF1203</td>\n",
       "      <td>77D67F9C-42E8-41E9-9A0E-B6C54F211CF3</td>\n",
       "    </tr>\n",
       "    <tr>\n",
       "      <th>5</th>\n",
       "      <td>6</td>\n",
       "      <td>Insurance</td>\n",
       "      <td>2016-10-01 16:03:01.630</td>\n",
       "      <td>1</td>\n",
       "      <td>140</td>\n",
       "      <td>NaN</td>\n",
       "      <td>NaN</td>\n",
       "    </tr>\n",
       "    <tr>\n",
       "      <th>6</th>\n",
       "      <td>7</td>\n",
       "      <td>Loan</td>\n",
       "      <td>2021-08-14 10:25:22.987</td>\n",
       "      <td>0</td>\n",
       "      <td>140</td>\n",
       "      <td>NaN</td>\n",
       "      <td>NaN</td>\n",
       "    </tr>\n",
       "  </tbody>\n",
       "</table>\n",
       "</div>"
      ],
      "text/plain": [
       "   ServiceId        ServiceType                 UpdateOn  Status  UpdateBy  \\\n",
       "0          1            Billing  2015-09-03 12:44:20.920       1         0   \n",
       "1          2         E-Recharge  2011-04-28 13:34:13.220       1         0   \n",
       "2          3            Booking  2012-05-15 17:19:55.550       1         0   \n",
       "3          4    Online Shopping  2015-08-21 12:39:24.853       1         0   \n",
       "4          5  Financial Service  2013-11-02 13:33:10.540       1         0   \n",
       "5          6          Insurance  2016-10-01 16:03:01.630       1       140   \n",
       "6          7               Loan  2021-08-14 10:25:22.987       0       140   \n",
       "\n",
       "                      ServiceTypeID_Old                          UpdateBy_Old  \n",
       "0  2CF1A98B-E329-4EC4-9132-B5D8FD8C973F  B2CBD355-885D-44AB-8246-94E2F3899182  \n",
       "1  5CAED230-F58C-4C51-B2FC-E549DC1F7C8C  2393F48C-B5E6-472F-AFF8-0CD521C7C0A9  \n",
       "2  8F76AD01-3B34-44E8-948F-10E82C737011  3031D986-FD59-4D98-8C5C-C87E7460002B  \n",
       "3  AA11E88C-D242-4599-8F16-8021C4A9D4B9  77D67F9C-42E8-41E9-9A0E-B6C54F211CF3  \n",
       "4  CC269D03-45D8-4921-8442-6FF8BCCF1203  77D67F9C-42E8-41E9-9A0E-B6C54F211CF3  \n",
       "5                                   NaN                                   NaN  \n",
       "6                                   NaN                                   NaN  "
      ]
     },
     "execution_count": 344,
     "metadata": {},
     "output_type": "execute_result"
    }
   ],
   "source": [
    "service_data = pd.read_csv('SeviceTypeCatalog.csv')\n",
    "print(service_data.shape)\n",
    "service_data"
   ]
  },
  {
   "cell_type": "code",
   "execution_count": 345,
   "id": "a807f52b",
   "metadata": {},
   "outputs": [
    {
     "data": {
      "text/html": [
       "<div>\n",
       "<style scoped>\n",
       "    .dataframe tbody tr th:only-of-type {\n",
       "        vertical-align: middle;\n",
       "    }\n",
       "\n",
       "    .dataframe tbody tr th {\n",
       "        vertical-align: top;\n",
       "    }\n",
       "\n",
       "    .dataframe thead th {\n",
       "        text-align: right;\n",
       "    }\n",
       "</style>\n",
       "<table border=\"1\" class=\"dataframe\">\n",
       "  <thead>\n",
       "    <tr style=\"text-align: right;\">\n",
       "      <th></th>\n",
       "      <th>BusinessId</th>\n",
       "      <th>ProductId</th>\n",
       "      <th>PayModeId</th>\n",
       "      <th>Amount</th>\n",
       "      <th>Status_x</th>\n",
       "      <th>IsReversed</th>\n",
       "      <th>Product</th>\n",
       "      <th>AggregatorId</th>\n",
       "      <th>ServiceId</th>\n",
       "      <th>OperatorId</th>\n",
       "      <th>...</th>\n",
       "      <th>IsTerminate</th>\n",
       "      <th>CreatedOn</th>\n",
       "      <th>UpdateOn_x</th>\n",
       "      <th>UpdateBy_x</th>\n",
       "      <th>ServiceType</th>\n",
       "      <th>UpdateOn_y</th>\n",
       "      <th>Status_y</th>\n",
       "      <th>UpdateBy_y</th>\n",
       "      <th>ServiceTypeID_Old</th>\n",
       "      <th>UpdateBy_Old</th>\n",
       "    </tr>\n",
       "  </thead>\n",
       "  <tbody>\n",
       "    <tr>\n",
       "      <th>0</th>\n",
       "      <td>343554</td>\n",
       "      <td>49</td>\n",
       "      <td>1</td>\n",
       "      <td>666.0</td>\n",
       "      <td>3</td>\n",
       "      <td>1</td>\n",
       "      <td>Reliance JIO</td>\n",
       "      <td>6.0</td>\n",
       "      <td>2.0</td>\n",
       "      <td>13.0</td>\n",
       "      <td>...</td>\n",
       "      <td>0.0</td>\n",
       "      <td>2017-03-03 12:04:50.987</td>\n",
       "      <td>2022-05-19 15:57:12.960</td>\n",
       "      <td>352.0</td>\n",
       "      <td>E-Recharge</td>\n",
       "      <td>2011-04-28 13:34:13.220</td>\n",
       "      <td>1.0</td>\n",
       "      <td>0.0</td>\n",
       "      <td>5CAED230-F58C-4C51-B2FC-E549DC1F7C8C</td>\n",
       "      <td>2393F48C-B5E6-472F-AFF8-0CD521C7C0A9</td>\n",
       "    </tr>\n",
       "    <tr>\n",
       "      <th>1</th>\n",
       "      <td>343050</td>\n",
       "      <td>51</td>\n",
       "      <td>1</td>\n",
       "      <td>479.0</td>\n",
       "      <td>2</td>\n",
       "      <td>2</td>\n",
       "      <td>Airtel</td>\n",
       "      <td>6.0</td>\n",
       "      <td>2.0</td>\n",
       "      <td>3.0</td>\n",
       "      <td>...</td>\n",
       "      <td>0.0</td>\n",
       "      <td>2011-08-09 15:04:38.647</td>\n",
       "      <td>2022-05-04 10:18:58.587</td>\n",
       "      <td>352.0</td>\n",
       "      <td>E-Recharge</td>\n",
       "      <td>2011-04-28 13:34:13.220</td>\n",
       "      <td>1.0</td>\n",
       "      <td>0.0</td>\n",
       "      <td>5CAED230-F58C-4C51-B2FC-E549DC1F7C8C</td>\n",
       "      <td>2393F48C-B5E6-472F-AFF8-0CD521C7C0A9</td>\n",
       "    </tr>\n",
       "    <tr>\n",
       "      <th>2</th>\n",
       "      <td>190431</td>\n",
       "      <td>3039</td>\n",
       "      <td>1</td>\n",
       "      <td>0.0</td>\n",
       "      <td>3</td>\n",
       "      <td>3</td>\n",
       "      <td>AEPS Balance Services</td>\n",
       "      <td>42.0</td>\n",
       "      <td>5.0</td>\n",
       "      <td>68.0</td>\n",
       "      <td>...</td>\n",
       "      <td>0.0</td>\n",
       "      <td>2017-05-02 18:11:57.090</td>\n",
       "      <td>2020-07-07 21:16:27.810</td>\n",
       "      <td>140.0</td>\n",
       "      <td>Financial Service</td>\n",
       "      <td>2013-11-02 13:33:10.540</td>\n",
       "      <td>1.0</td>\n",
       "      <td>0.0</td>\n",
       "      <td>CC269D03-45D8-4921-8442-6FF8BCCF1203</td>\n",
       "      <td>77D67F9C-42E8-41E9-9A0E-B6C54F211CF3</td>\n",
       "    </tr>\n",
       "    <tr>\n",
       "      <th>3</th>\n",
       "      <td>190431</td>\n",
       "      <td>3039</td>\n",
       "      <td>1</td>\n",
       "      <td>0.0</td>\n",
       "      <td>3</td>\n",
       "      <td>3</td>\n",
       "      <td>AEPS Balance Services</td>\n",
       "      <td>42.0</td>\n",
       "      <td>5.0</td>\n",
       "      <td>68.0</td>\n",
       "      <td>...</td>\n",
       "      <td>0.0</td>\n",
       "      <td>2017-05-02 18:11:57.090</td>\n",
       "      <td>2020-07-07 21:16:27.810</td>\n",
       "      <td>140.0</td>\n",
       "      <td>Financial Service</td>\n",
       "      <td>2013-11-02 13:33:10.540</td>\n",
       "      <td>1.0</td>\n",
       "      <td>0.0</td>\n",
       "      <td>CC269D03-45D8-4921-8442-6FF8BCCF1203</td>\n",
       "      <td>77D67F9C-42E8-41E9-9A0E-B6C54F211CF3</td>\n",
       "    </tr>\n",
       "    <tr>\n",
       "      <th>4</th>\n",
       "      <td>190431</td>\n",
       "      <td>3039</td>\n",
       "      <td>1</td>\n",
       "      <td>0.0</td>\n",
       "      <td>3</td>\n",
       "      <td>3</td>\n",
       "      <td>AEPS Balance Services</td>\n",
       "      <td>42.0</td>\n",
       "      <td>5.0</td>\n",
       "      <td>68.0</td>\n",
       "      <td>...</td>\n",
       "      <td>0.0</td>\n",
       "      <td>2017-05-02 18:11:57.090</td>\n",
       "      <td>2020-07-07 21:16:27.810</td>\n",
       "      <td>140.0</td>\n",
       "      <td>Financial Service</td>\n",
       "      <td>2013-11-02 13:33:10.540</td>\n",
       "      <td>1.0</td>\n",
       "      <td>0.0</td>\n",
       "      <td>CC269D03-45D8-4921-8442-6FF8BCCF1203</td>\n",
       "      <td>77D67F9C-42E8-41E9-9A0E-B6C54F211CF3</td>\n",
       "    </tr>\n",
       "  </tbody>\n",
       "</table>\n",
       "<p>5 rows × 22 columns</p>\n",
       "</div>"
      ],
      "text/plain": [
       "   BusinessId  ProductId  PayModeId  Amount  Status_x  IsReversed  \\\n",
       "0      343554         49          1   666.0         3           1   \n",
       "1      343050         51          1   479.0         2           2   \n",
       "2      190431       3039          1     0.0         3           3   \n",
       "3      190431       3039          1     0.0         3           3   \n",
       "4      190431       3039          1     0.0         3           3   \n",
       "\n",
       "                 Product  AggregatorId  ServiceId  OperatorId  ...  \\\n",
       "0           Reliance JIO           6.0        2.0        13.0  ...   \n",
       "1                 Airtel           6.0        2.0         3.0  ...   \n",
       "2  AEPS Balance Services          42.0        5.0        68.0  ...   \n",
       "3  AEPS Balance Services          42.0        5.0        68.0  ...   \n",
       "4  AEPS Balance Services          42.0        5.0        68.0  ...   \n",
       "\n",
       "   IsTerminate                CreatedOn               UpdateOn_x UpdateBy_x  \\\n",
       "0          0.0  2017-03-03 12:04:50.987  2022-05-19 15:57:12.960      352.0   \n",
       "1          0.0  2011-08-09 15:04:38.647  2022-05-04 10:18:58.587      352.0   \n",
       "2          0.0  2017-05-02 18:11:57.090  2020-07-07 21:16:27.810      140.0   \n",
       "3          0.0  2017-05-02 18:11:57.090  2020-07-07 21:16:27.810      140.0   \n",
       "4          0.0  2017-05-02 18:11:57.090  2020-07-07 21:16:27.810      140.0   \n",
       "\n",
       "         ServiceType               UpdateOn_y Status_y UpdateBy_y  \\\n",
       "0         E-Recharge  2011-04-28 13:34:13.220      1.0        0.0   \n",
       "1         E-Recharge  2011-04-28 13:34:13.220      1.0        0.0   \n",
       "2  Financial Service  2013-11-02 13:33:10.540      1.0        0.0   \n",
       "3  Financial Service  2013-11-02 13:33:10.540      1.0        0.0   \n",
       "4  Financial Service  2013-11-02 13:33:10.540      1.0        0.0   \n",
       "\n",
       "                      ServiceTypeID_Old                          UpdateBy_Old  \n",
       "0  5CAED230-F58C-4C51-B2FC-E549DC1F7C8C  2393F48C-B5E6-472F-AFF8-0CD521C7C0A9  \n",
       "1  5CAED230-F58C-4C51-B2FC-E549DC1F7C8C  2393F48C-B5E6-472F-AFF8-0CD521C7C0A9  \n",
       "2  CC269D03-45D8-4921-8442-6FF8BCCF1203  77D67F9C-42E8-41E9-9A0E-B6C54F211CF3  \n",
       "3  CC269D03-45D8-4921-8442-6FF8BCCF1203  77D67F9C-42E8-41E9-9A0E-B6C54F211CF3  \n",
       "4  CC269D03-45D8-4921-8442-6FF8BCCF1203  77D67F9C-42E8-41E9-9A0E-B6C54F211CF3  \n",
       "\n",
       "[5 rows x 22 columns]"
      ]
     },
     "execution_count": 345,
     "metadata": {},
     "output_type": "execute_result"
    }
   ],
   "source": [
    "final_df1=pd.merge(final_df,service_data,on='ServiceId', how='left')\n",
    "final_df1.head()\n",
    "#final_df.shape"
   ]
  },
  {
   "cell_type": "code",
   "execution_count": 346,
   "id": "507a9dbf",
   "metadata": {},
   "outputs": [
    {
     "data": {
      "application/javascript": [
       "\n",
       "        if (window._pyforest_update_imports_cell) { window._pyforest_update_imports_cell('import matplotlib.pyplot as plt'); }\n",
       "    "
      ],
      "text/plain": [
       "<IPython.core.display.Javascript object>"
      ]
     },
     "metadata": {},
     "output_type": "display_data"
    },
    {
     "data": {
      "application/javascript": [
       "\n",
       "        if (window._pyforest_update_imports_cell) { window._pyforest_update_imports_cell('import matplotlib.pyplot as plt'); }\n",
       "    "
      ],
      "text/plain": [
       "<IPython.core.display.Javascript object>"
      ]
     },
     "metadata": {},
     "output_type": "display_data"
    },
    {
     "data": {
      "application/javascript": [
       "\n",
       "        if (window._pyforest_update_imports_cell) { window._pyforest_update_imports_cell('import matplotlib.pyplot as plt'); }\n",
       "    "
      ],
      "text/plain": [
       "<IPython.core.display.Javascript object>"
      ]
     },
     "metadata": {},
     "output_type": "display_data"
    },
    {
     "data": {
      "image/png": "[encoded data removed]",
      "text/plain": [
       "<Figure size 504x252 with 1 Axes>"
      ]
     },
     "metadata": {
      "needs_background": "light"
     },
     "output_type": "display_data"
    }
   ],
   "source": [
    "plt.rcParams[\"figure.figsize\"] = [7.00, 3.50]\n",
    "plt.rcParams[\"figure.autolayout\"] = True\n",
    "ax = sns.countplot(x = \"ServiceId\",data= final_df1,palette= ['blue','red','orange','yellow','green','green'])\n",
    "for p in ax.patches:\n",
    "    ax.annotate('{:.0f}'.format(p.get_height()), (p.get_x()+0.25, p.get_height()+0.01))\n",
    "plt.show()"
   ]
  },
  {
   "cell_type": "code",
   "execution_count": null,
   "id": "23250b74",
   "metadata": {},
   "outputs": [],
   "source": []
  },
  {
   "cell_type": "code",
   "execution_count": null,
   "id": "9633327d",
   "metadata": {},
   "outputs": [],
   "source": []
  }
 ],
 "metadata": {
  "kernelspec": {
   "display_name": "Python 3 (ipykernel)",
   "language": "python",
   "name": "python3"
  },
  "language_info": {
   "codemirror_mode": {
    "name": "ipython",
    "version": 3
   },
   "file_extension": ".py",
   "mimetype": "text/x-python",
   "name": "python",
   "nbconvert_exporter": "python",
   "pygments_lexer": "ipython3",
   "version": "3.8.5"
  }
 },
 "nbformat": 4,
 "nbformat_minor": 5
}
