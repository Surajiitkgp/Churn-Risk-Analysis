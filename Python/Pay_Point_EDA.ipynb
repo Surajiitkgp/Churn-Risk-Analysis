{
 "cells": [
  {
   "cell_type": "markdown",
   "id": "3f6adfcf",
   "metadata": {},
   "source": [
    "### DATE - 6th September 2022"
   ]
  },
  {
   "cell_type": "code",
   "execution_count": 48,
   "id": "4fa225a2",
   "metadata": {},
   "outputs": [],
   "source": [
    "import pandas as pd\n",
    "import seaborn as sns\n",
    "import numpy as np"
   ]
  },
  {
   "cell_type": "code",
   "execution_count": 3,
   "id": "7e4ab294",
   "metadata": {},
   "outputs": [
    {
     "data": {
      "text/html": [
       "<div>\n",
       "<style scoped>\n",
       "    .dataframe tbody tr th:only-of-type {\n",
       "        vertical-align: middle;\n",
       "    }\n",
       "\n",
       "    .dataframe tbody tr th {\n",
       "        vertical-align: top;\n",
       "    }\n",
       "\n",
       "    .dataframe thead th {\n",
       "        text-align: right;\n",
       "    }\n",
       "</style>\n",
       "<table border=\"1\" class=\"dataframe\">\n",
       "  <thead>\n",
       "    <tr style=\"text-align: right;\">\n",
       "      <th></th>\n",
       "      <th>ATId</th>\n",
       "      <th>BusinessId</th>\n",
       "      <th>DeviceCode</th>\n",
       "      <th>TransactionID</th>\n",
       "      <th>AssociateRefTxnId</th>\n",
       "      <th>ProductId</th>\n",
       "      <th>PayModeId</th>\n",
       "      <th>Amount</th>\n",
       "      <th>TxnSource</th>\n",
       "      <th>Status</th>\n",
       "      <th>IsReversed</th>\n",
       "      <th>TransactionDate</th>\n",
       "      <th>EndPointId</th>\n",
       "      <th>StatusCode</th>\n",
       "      <th>UpdatedOn</th>\n",
       "    </tr>\n",
       "  </thead>\n",
       "  <tbody>\n",
       "    <tr>\n",
       "      <th>0</th>\n",
       "      <td>143453104</td>\n",
       "      <td>343554</td>\n",
       "      <td>MAO4SLWN</td>\n",
       "      <td>2205150001320000003</td>\n",
       "      <td>NaN</td>\n",
       "      <td>49</td>\n",
       "      <td>1</td>\n",
       "      <td>666.0</td>\n",
       "      <td>2</td>\n",
       "      <td>3</td>\n",
       "      <td>1</td>\n",
       "      <td>2022-05-15 00:01:32.453</td>\n",
       "      <td>47</td>\n",
       "      <td>201</td>\n",
       "      <td>2022-05-15 00:01:33.850</td>\n",
       "    </tr>\n",
       "    <tr>\n",
       "      <th>1</th>\n",
       "      <td>143453105</td>\n",
       "      <td>343050</td>\n",
       "      <td>MADRKA0</td>\n",
       "      <td>2205150002320000005</td>\n",
       "      <td>NaN</td>\n",
       "      <td>51</td>\n",
       "      <td>1</td>\n",
       "      <td>479.0</td>\n",
       "      <td>2</td>\n",
       "      <td>2</td>\n",
       "      <td>2</td>\n",
       "      <td>2022-05-15 00:02:32.047</td>\n",
       "      <td>6</td>\n",
       "      <td>NaN</td>\n",
       "      <td>2022-05-15 00:02:57.303</td>\n",
       "    </tr>\n",
       "    <tr>\n",
       "      <th>2</th>\n",
       "      <td>143453106</td>\n",
       "      <td>190431</td>\n",
       "      <td>AS55HE7M</td>\n",
       "      <td>2205150003490000010</td>\n",
       "      <td>NaN</td>\n",
       "      <td>3039</td>\n",
       "      <td>1</td>\n",
       "      <td>0.0</td>\n",
       "      <td>2</td>\n",
       "      <td>3</td>\n",
       "      <td>3</td>\n",
       "      <td>2022-05-15 00:03:49.210</td>\n",
       "      <td>64</td>\n",
       "      <td>NaN</td>\n",
       "      <td>2022-05-15 00:03:49.570</td>\n",
       "    </tr>\n",
       "    <tr>\n",
       "      <th>3</th>\n",
       "      <td>143453107</td>\n",
       "      <td>190431</td>\n",
       "      <td>AS55HE7M</td>\n",
       "      <td>2205150003580000011</td>\n",
       "      <td>NaN</td>\n",
       "      <td>3039</td>\n",
       "      <td>1</td>\n",
       "      <td>0.0</td>\n",
       "      <td>2</td>\n",
       "      <td>3</td>\n",
       "      <td>3</td>\n",
       "      <td>2022-05-15 00:03:58.007</td>\n",
       "      <td>64</td>\n",
       "      <td>NaN</td>\n",
       "      <td>2022-05-15 00:03:58.303</td>\n",
       "    </tr>\n",
       "    <tr>\n",
       "      <th>4</th>\n",
       "      <td>143453108</td>\n",
       "      <td>190431</td>\n",
       "      <td>AS55HE7M</td>\n",
       "      <td>2205150004220000012</td>\n",
       "      <td>NaN</td>\n",
       "      <td>3039</td>\n",
       "      <td>1</td>\n",
       "      <td>0.0</td>\n",
       "      <td>2</td>\n",
       "      <td>3</td>\n",
       "      <td>3</td>\n",
       "      <td>2022-05-15 00:04:22.217</td>\n",
       "      <td>64</td>\n",
       "      <td>NaN</td>\n",
       "      <td>2022-05-15 00:04:22.467</td>\n",
       "    </tr>\n",
       "  </tbody>\n",
       "</table>\n",
       "</div>"
      ],
      "text/plain": [
       "        ATId  BusinessId DeviceCode        TransactionID AssociateRefTxnId  \\\n",
       "0  143453104      343554   MAO4SLWN  2205150001320000003               NaN   \n",
       "1  143453105      343050    MADRKA0  2205150002320000005               NaN   \n",
       "2  143453106      190431   AS55HE7M  2205150003490000010               NaN   \n",
       "3  143453107      190431   AS55HE7M  2205150003580000011               NaN   \n",
       "4  143453108      190431   AS55HE7M  2205150004220000012               NaN   \n",
       "\n",
       "   ProductId  PayModeId  Amount  TxnSource  Status  IsReversed  \\\n",
       "0         49          1   666.0          2       3           1   \n",
       "1         51          1   479.0          2       2           2   \n",
       "2       3039          1     0.0          2       3           3   \n",
       "3       3039          1     0.0          2       3           3   \n",
       "4       3039          1     0.0          2       3           3   \n",
       "\n",
       "           TransactionDate  EndPointId StatusCode                UpdatedOn  \n",
       "0  2022-05-15 00:01:32.453          47        201  2022-05-15 00:01:33.850  \n",
       "1  2022-05-15 00:02:32.047           6        NaN  2022-05-15 00:02:57.303  \n",
       "2  2022-05-15 00:03:49.210          64        NaN  2022-05-15 00:03:49.570  \n",
       "3  2022-05-15 00:03:58.007          64        NaN  2022-05-15 00:03:58.303  \n",
       "4  2022-05-15 00:04:22.217          64        NaN  2022-05-15 00:04:22.467  "
      ]
     },
     "execution_count": 3,
     "metadata": {},
     "output_type": "execute_result"
    }
   ],
   "source": [
    "df = pd.read_csv('All_transation.csv')\n",
    "df.head()"
   ]
  },
  {
   "cell_type": "code",
   "execution_count": 4,
   "id": "a3015703",
   "metadata": {},
   "outputs": [
    {
     "data": {
      "text/plain": [
       "(141002, 15)"
      ]
     },
     "execution_count": 4,
     "metadata": {},
     "output_type": "execute_result"
    }
   ],
   "source": [
    "df.shape"
   ]
  },
  {
   "cell_type": "code",
   "execution_count": 6,
   "id": "bfeb1437",
   "metadata": {},
   "outputs": [
    {
     "data": {
      "text/plain": [
       "ATId                      0\n",
       "BusinessId                0\n",
       "DeviceCode                0\n",
       "TransactionID             0\n",
       "AssociateRefTxnId    140078\n",
       "ProductId                 0\n",
       "PayModeId                 0\n",
       "Amount                    0\n",
       "TxnSource                 0\n",
       "Status                    0\n",
       "IsReversed                0\n",
       "TransactionDate           0\n",
       "EndPointId                0\n",
       "StatusCode            68410\n",
       "UpdatedOn                 5\n",
       "dtype: int64"
      ]
     },
     "execution_count": 6,
     "metadata": {},
     "output_type": "execute_result"
    }
   ],
   "source": [
    "df.isnull().sum(axis = 0)"
   ]
  },
  {
   "cell_type": "code",
   "execution_count": 20,
   "id": "c8404819",
   "metadata": {},
   "outputs": [
    {
     "name": "stdout",
     "output_type": "stream",
     "text": [
      "<class 'pandas.core.frame.DataFrame'>\n",
      "RangeIndex: 141002 entries, 0 to 141001\n",
      "Data columns (total 15 columns):\n",
      " #   Column             Non-Null Count   Dtype  \n",
      "---  ------             --------------   -----  \n",
      " 0   ATId               141002 non-null  int64  \n",
      " 1   BusinessId         141002 non-null  int64  \n",
      " 2   DeviceCode         141002 non-null  object \n",
      " 3   TransactionID      141002 non-null  int64  \n",
      " 4   AssociateRefTxnId  924 non-null     object \n",
      " 5   ProductId          141002 non-null  int64  \n",
      " 6   PayModeId          141002 non-null  int64  \n",
      " 7   Amount             141002 non-null  float64\n",
      " 8   TxnSource          141002 non-null  int64  \n",
      " 9   Status             141002 non-null  int64  \n",
      " 10  IsReversed         141002 non-null  int64  \n",
      " 11  TransactionDate    141002 non-null  object \n",
      " 12  EndPointId         141002 non-null  int64  \n",
      " 13  StatusCode         72592 non-null   object \n",
      " 14  UpdatedOn          140997 non-null  object \n",
      "dtypes: float64(1), int64(9), object(5)\n",
      "memory usage: 16.1+ MB\n"
     ]
    }
   ],
   "source": [
    "df.info()"
   ]
  },
  {
   "cell_type": "markdown",
   "id": "bfc7607e",
   "metadata": {},
   "source": [
    "## Featurewise Exploratory Data Analysis"
   ]
  },
  {
   "cell_type": "markdown",
   "id": "79c94249",
   "metadata": {},
   "source": [
    "### ATId"
   ]
  },
  {
   "cell_type": "code",
   "execution_count": 22,
   "id": "45cc1138",
   "metadata": {},
   "outputs": [
    {
     "data": {
      "text/plain": [
       "143453104    1\n",
       "143547110    1\n",
       "143547104    1\n",
       "143547105    1\n",
       "143547106    1\n",
       "            ..\n",
       "143500101    1\n",
       "143500100    1\n",
       "143500099    1\n",
       "143500098    1\n",
       "143594108    1\n",
       "Name: ATId, Length: 141002, dtype: int64"
      ]
     },
     "execution_count": 22,
     "metadata": {},
     "output_type": "execute_result"
    }
   ],
   "source": [
    "df['ATId'].value_counts()\n",
    "# sns.countplot(df['ATId'])\n",
    "# df['ATId'].describe()"
   ]
  },
  {
   "cell_type": "code",
   "execution_count": 63,
   "id": "acf8ca00",
   "metadata": {},
   "outputs": [
    {
     "name": "stderr",
     "output_type": "stream",
     "text": [
      "C:\\Users\\ANKUR\\anaconda3\\lib\\site-packages\\seaborn\\_decorators.py:36: FutureWarning: Pass the following variable as a keyword arg: x. From version 0.12, the only valid positional argument will be `data`, and passing other arguments without an explicit keyword will result in an error or misinterpretation.\n",
      "  warnings.warn(\n"
     ]
    },
    {
     "data": {
      "text/plain": [
       "<AxesSubplot:xlabel='ATId'>"
      ]
     },
     "execution_count": 63,
     "metadata": {},
     "output_type": "execute_result"
    },
    {
     "data": {
      "image/png": "[encoded data removed]",
      "text/plain": [
       "<Figure size 432x288 with 1 Axes>"
      ]
     },
     "metadata": {
      "needs_background": "light"
     },
     "output_type": "display_data"
    }
   ],
   "source": [
    "sns.boxplot(df['ATId'])"
   ]
  },
  {
   "cell_type": "markdown",
   "id": "1e9e2981",
   "metadata": {},
   "source": [
    "Observation - we can observe that we have unique ATId from every transaction. It basically means that a unique Id is generated for each transaction. As 141002 transaction, same number of ATId's."
   ]
  },
  {
   "cell_type": "markdown",
   "id": "4f021b20",
   "metadata": {},
   "source": [
    "### BusinessId"
   ]
  },
  {
   "cell_type": "code",
   "execution_count": 24,
   "id": "941fa97e",
   "metadata": {},
   "outputs": [
    {
     "data": {
      "text/plain": [
       "132764    423\n",
       "320523    343\n",
       "367455    287\n",
       "151699    287\n",
       "67765     259\n",
       "         ... \n",
       "45775       1\n",
       "316554      1\n",
       "81726       1\n",
       "192678      1\n",
       "324643      1\n",
       "Name: BusinessId, Length: 12437, dtype: int64"
      ]
     },
     "execution_count": 24,
     "metadata": {},
     "output_type": "execute_result"
    }
   ],
   "source": [
    "df['BusinessId'].value_counts()"
   ]
  },
  {
   "cell_type": "code",
   "execution_count": 62,
   "id": "bb6bc4b1",
   "metadata": {},
   "outputs": [
    {
     "name": "stderr",
     "output_type": "stream",
     "text": [
      "C:\\Users\\ANKUR\\anaconda3\\lib\\site-packages\\seaborn\\_decorators.py:36: FutureWarning: Pass the following variable as a keyword arg: x. From version 0.12, the only valid positional argument will be `data`, and passing other arguments without an explicit keyword will result in an error or misinterpretation.\n",
      "  warnings.warn(\n"
     ]
    },
    {
     "data": {
      "text/plain": [
       "<AxesSubplot:xlabel='BusinessId'>"
      ]
     },
     "execution_count": 62,
     "metadata": {},
     "output_type": "execute_result"
    },
    {
     "data": {
      "image/png": "[encoded data removed]",
      "text/plain": [
       "<Figure size 432x288 with 1 Axes>"
      ]
     },
     "metadata": {
      "needs_background": "light"
     },
     "output_type": "display_data"
    }
   ],
   "source": [
    "sns.boxplot(df['BusinessId'])"
   ]
  },
  {
   "cell_type": "code",
   "execution_count": 31,
   "id": "33f34e0f",
   "metadata": {},
   "outputs": [
    {
     "name": "stderr",
     "output_type": "stream",
     "text": [
      "C:\\Users\\ANKUR\\anaconda3\\lib\\site-packages\\seaborn\\distributions.py:2619: FutureWarning: `distplot` is a deprecated function and will be removed in a future version. Please adapt your code to use either `displot` (a figure-level function with similar flexibility) or `histplot` (an axes-level function for histograms).\n",
      "  warnings.warn(msg, FutureWarning)\n"
     ]
    },
    {
     "data": {
      "text/plain": [
       "<AxesSubplot:xlabel='BusinessId', ylabel='Density'>"
      ]
     },
     "execution_count": 31,
     "metadata": {},
     "output_type": "execute_result"
    },
    {
     "data": {
      "image/png": "[encoded data removed]",
      "text/plain": [
       "<Figure size 432x288 with 1 Axes>"
      ]
     },
     "metadata": {
      "needs_background": "light"
     },
     "output_type": "display_data"
    }
   ],
   "source": [
    "sns.distplot(df['BusinessId'])"
   ]
  },
  {
   "cell_type": "markdown",
   "id": "db993024",
   "metadata": {},
   "source": [
    "### Device Code"
   ]
  },
  {
   "cell_type": "code",
   "execution_count": 42,
   "id": "ef05bb63",
   "metadata": {},
   "outputs": [
    {
     "data": {
      "text/plain": [
       "ab8ceed7      423\n",
       "JR6WIWWA      343\n",
       "HDANDINN      287\n",
       "8096010131    258\n",
       "IILFRUHN      252\n",
       "             ... \n",
       "N7MUURR7        1\n",
       "AIRAYIS         1\n",
       "77r7i1t         1\n",
       "RDMMRRDR        1\n",
       "IH5UTI5H        1\n",
       "Name: DeviceCode, Length: 12515, dtype: int64"
      ]
     },
     "execution_count": 42,
     "metadata": {},
     "output_type": "execute_result"
    }
   ],
   "source": [
    "df['DeviceCode'].value_counts()"
   ]
  },
  {
   "cell_type": "markdown",
   "id": "bd7c3adc",
   "metadata": {},
   "source": [
    "we can observe here that a mainly a particular device is used for a particular BusinessId by the business agent. But as the count of device code(12515) is more than businessID(12437), it may happen that some device are doing no business, so businessID. "
   ]
  },
  {
   "cell_type": "markdown",
   "id": "173d6971",
   "metadata": {},
   "source": [
    "### Transaction Id"
   ]
  },
  {
   "cell_type": "code",
   "execution_count": 37,
   "id": "51fe98e1",
   "metadata": {},
   "outputs": [
    {
     "data": {
      "text/plain": [
       "2205151101180049398    2\n",
       "2205150001320000003    1\n",
       "2205151707010100604    1\n",
       "2205151706590100597    1\n",
       "2205151706590100598    1\n",
       "                      ..\n",
       "2205151105140050153    1\n",
       "2205151105140050152    1\n",
       "2205151105140050149    1\n",
       "2205151105140050148    1\n",
       "2205152359140151261    1\n",
       "Name: TransactionID, Length: 141001, dtype: int64"
      ]
     },
     "execution_count": 37,
     "metadata": {},
     "output_type": "execute_result"
    }
   ],
   "source": [
    "df['TransactionID'].value_counts()"
   ]
  },
  {
   "cell_type": "code",
   "execution_count": 40,
   "id": "2fdf2ef0",
   "metadata": {},
   "outputs": [
    {
     "data": {
      "text/plain": [
       "<seaborn.axisgrid.FacetGrid at 0x24892891e50>"
      ]
     },
     "execution_count": 40,
     "metadata": {},
     "output_type": "execute_result"
    },
    {
     "data": {
      "image/png": "[encoded data removed]",
      "text/plain": [
       "<Figure size 360x360 with 1 Axes>"
      ]
     },
     "metadata": {
      "needs_background": "light"
     },
     "output_type": "display_data"
    }
   ],
   "source": [
    "sns.displot(df['TransactionID'],kde= True)"
   ]
  },
  {
   "cell_type": "code",
   "execution_count": 44,
   "id": "262d5799",
   "metadata": {},
   "outputs": [
    {
     "data": {
      "text/plain": [
       "Z2022051516525532632CA3    1\n",
       "1798DH7P                   1\n",
       "4453868                    1\n",
       "10934mIrB                  1\n",
       "1093446my                  1\n",
       "                          ..\n",
       "U2205151050270000085       1\n",
       "PY0071948939               1\n",
       "5169bLqA                   1\n",
       "PY0071949511               1\n",
       "U2205152357250000406       1\n",
       "Name: AssociateRefTxnId, Length: 924, dtype: int64"
      ]
     },
     "execution_count": 44,
     "metadata": {},
     "output_type": "execute_result"
    }
   ],
   "source": [
    "### AssociateRefTxnId\n",
    "df['AssociateRefTxnId'].value_counts()"
   ]
  },
  {
   "cell_type": "markdown",
   "id": "6474ce04",
   "metadata": {},
   "source": [
    "They are all unique Id's(924) but also contain a lot of null values. We have to see what this feature signify and why there are more null values to it."
   ]
  },
  {
   "cell_type": "markdown",
   "id": "5d68a122",
   "metadata": {},
   "source": [
    "### ProductID"
   ]
  },
  {
   "cell_type": "code",
   "execution_count": 16,
   "id": "1786c7e0",
   "metadata": {},
   "outputs": [
    {
     "data": {
      "text/plain": [
       "3041    46101\n",
       "3039    38328\n",
       "3047    17826\n",
       "3037    15550\n",
       "3046     5133\n",
       "        ...  \n",
       "4001        1\n",
       "100         1\n",
       "483         1\n",
       "3033        1\n",
       "113         1\n",
       "Name: ProductId, Length: 97, dtype: int64"
      ]
     },
     "execution_count": 16,
     "metadata": {},
     "output_type": "execute_result"
    }
   ],
   "source": [
    "#sns.countplot(df['ProductId'])\n",
    "df['ProductId'].value_counts()"
   ]
  },
  {
   "cell_type": "markdown",
   "id": "d851ad53",
   "metadata": {},
   "source": [
    "We can observe from the result that which product is more popular and contribution in most of the business."
   ]
  },
  {
   "cell_type": "markdown",
   "id": "e86bf58a",
   "metadata": {},
   "source": [
    "### PayModeId"
   ]
  },
  {
   "cell_type": "code",
   "execution_count": 77,
   "id": "db939302",
   "metadata": {},
   "outputs": [
    {
     "data": {
      "text/plain": [
       "1    141002\n",
       "Name: PayModeId, dtype: int64"
      ]
     },
     "execution_count": 77,
     "metadata": {},
     "output_type": "execute_result"
    }
   ],
   "source": [
    "df['PayModeId'].value_counts()"
   ]
  },
  {
   "cell_type": "code",
   "execution_count": 14,
   "id": "e42403b5",
   "metadata": {},
   "outputs": [
    {
     "name": "stderr",
     "output_type": "stream",
     "text": [
      "C:\\Users\\ANKUR\\anaconda3\\lib\\site-packages\\seaborn\\_decorators.py:36: FutureWarning: Pass the following variable as a keyword arg: x. From version 0.12, the only valid positional argument will be `data`, and passing other arguments without an explicit keyword will result in an error or misinterpretation.\n",
      "  warnings.warn(\n"
     ]
    },
    {
     "data": {
      "text/plain": [
       "<AxesSubplot:xlabel='PayModeId', ylabel='count'>"
      ]
     },
     "execution_count": 14,
     "metadata": {},
     "output_type": "execute_result"
    },
    {
     "data": {
      "image/png": "[encoded data removed]",
      "text/plain": [
       "<Figure size 432x288 with 1 Axes>"
      ]
     },
     "metadata": {
      "needs_background": "light"
     },
     "output_type": "display_data"
    }
   ],
   "source": [
    "sns.countplot(df['PayModeId'])"
   ]
  },
  {
   "cell_type": "markdown",
   "id": "e285c4d0",
   "metadata": {},
   "source": [
    "This Id is not for all transaction, It basically means if the transaction is intiated, PayModeId is becoming 1. "
   ]
  },
  {
   "cell_type": "markdown",
   "id": "d1293232",
   "metadata": {},
   "source": [
    "### Amount"
   ]
  },
  {
   "cell_type": "code",
   "execution_count": 46,
   "id": "92cd9a55",
   "metadata": {},
   "outputs": [
    {
     "data": {
      "text/plain": [
       "0.00        58496\n",
       "1000.00      6211\n",
       "5000.00      5693\n",
       "1.00         4969\n",
       "10000.00     4406\n",
       "            ...  \n",
       "543.00          1\n",
       "266.00          1\n",
       "5320.00         1\n",
       "1293.00         1\n",
       "7281.26         1\n",
       "Name: Amount, Length: 2841, dtype: int64"
      ]
     },
     "execution_count": 46,
     "metadata": {},
     "output_type": "execute_result"
    }
   ],
   "source": [
    "df['Amount'].value_counts()"
   ]
  },
  {
   "cell_type": "markdown",
   "id": "ca2fb6ee",
   "metadata": {},
   "source": [
    "Why there are a lot of zero amount transaction, if the transaction is being intiated but not completed. we must find the suitable cause for this problem. according to me, there can be network issue, failed transaction, etc. but we can conclude anything, it is just an assumption."
   ]
  },
  {
   "cell_type": "code",
   "execution_count": 47,
   "id": "ba68fc4b",
   "metadata": {},
   "outputs": [
    {
     "data": {
      "text/plain": [
       "count    141002.000000\n",
       "mean       1273.960332\n",
       "std        2496.554688\n",
       "min           0.000000\n",
       "25%           0.000000\n",
       "50%         155.000000\n",
       "75%        1500.000000\n",
       "max      200000.000000\n",
       "Name: Amount, dtype: float64"
      ]
     },
     "execution_count": 47,
     "metadata": {},
     "output_type": "execute_result"
    }
   ],
   "source": [
    "df['Amount'].describe()"
   ]
  },
  {
   "cell_type": "code",
   "execution_count": 78,
   "id": "a2553e0e",
   "metadata": {},
   "outputs": [
    {
     "data": {
      "text/plain": [
       "<AxesSubplot:xlabel='Amount', ylabel='Count'>"
      ]
     },
     "execution_count": 78,
     "metadata": {},
     "output_type": "execute_result"
    },
    {
     "data": {
      "image/png": "[encoded data removed]",
      "text/plain": [
       "<Figure size 432x288 with 1 Axes>"
      ]
     },
     "metadata": {
      "needs_background": "light"
     },
     "output_type": "display_data"
    }
   ],
   "source": [
    "sns.histplot(df['Amount'])"
   ]
  },
  {
   "cell_type": "code",
   "execution_count": 64,
   "id": "514f4fdf",
   "metadata": {},
   "outputs": [
    {
     "name": "stderr",
     "output_type": "stream",
     "text": [
      "C:\\Users\\ANKUR\\anaconda3\\lib\\site-packages\\seaborn\\_decorators.py:36: FutureWarning: Pass the following variable as a keyword arg: x. From version 0.12, the only valid positional argument will be `data`, and passing other arguments without an explicit keyword will result in an error or misinterpretation.\n",
      "  warnings.warn(\n"
     ]
    },
    {
     "data": {
      "text/plain": [
       "<AxesSubplot:xlabel='Amount'>"
      ]
     },
     "execution_count": 64,
     "metadata": {},
     "output_type": "execute_result"
    },
    {
     "data": {
      "image/png": "[encoded data removed]",
      "text/plain": [
       "<Figure size 432x288 with 1 Axes>"
      ]
     },
     "metadata": {
      "needs_background": "light"
     },
     "output_type": "display_data"
    }
   ],
   "source": [
    "sns.boxplot(df['Amount'])"
   ]
  },
  {
   "cell_type": "code",
   "execution_count": 49,
   "id": "fd443f33",
   "metadata": {},
   "outputs": [
    {
     "data": {
      "text/plain": [
       "179630954.73000002"
      ]
     },
     "execution_count": 49,
     "metadata": {},
     "output_type": "execute_result"
    }
   ],
   "source": [
    "np.sum(df['Amount'])"
   ]
  },
  {
   "cell_type": "markdown",
   "id": "932f0945",
   "metadata": {},
   "source": [
    "### TxnSource"
   ]
  },
  {
   "cell_type": "code",
   "execution_count": 12,
   "id": "ee68f1e3",
   "metadata": {},
   "outputs": [
    {
     "name": "stderr",
     "output_type": "stream",
     "text": [
      "C:\\Users\\ANKUR\\anaconda3\\lib\\site-packages\\seaborn\\_decorators.py:36: FutureWarning: Pass the following variable as a keyword arg: x. From version 0.12, the only valid positional argument will be `data`, and passing other arguments without an explicit keyword will result in an error or misinterpretation.\n",
      "  warnings.warn(\n"
     ]
    },
    {
     "data": {
      "text/plain": [
       "<AxesSubplot:xlabel='TxnSource', ylabel='count'>"
      ]
     },
     "execution_count": 12,
     "metadata": {},
     "output_type": "execute_result"
    },
    {
     "data": {
      "image/png": "[encoded data removed]",
      "text/plain": [
       "<Figure size 432x288 with 1 Axes>"
      ]
     },
     "metadata": {
      "needs_background": "light"
     },
     "output_type": "display_data"
    }
   ],
   "source": [
    "sns.countplot(df['TxnSource'])"
   ]
  },
  {
   "cell_type": "markdown",
   "id": "695721ec",
   "metadata": {},
   "source": [
    "### Status"
   ]
  },
  {
   "cell_type": "code",
   "execution_count": 51,
   "id": "e99c367a",
   "metadata": {},
   "outputs": [
    {
     "data": {
      "text/plain": [
       "2    88279\n",
       "3    52468\n",
       "6      221\n",
       "5       28\n",
       "1        6\n",
       "Name: Status, dtype: int64"
      ]
     },
     "execution_count": 51,
     "metadata": {},
     "output_type": "execute_result"
    }
   ],
   "source": [
    "df['Status'].value_counts()\n",
    "# 1 - inProcess\n",
    "# 2 - Success\n",
    "# 3 - Failed\n",
    "# 4 - Rejected\n",
    "# 5 - Partial Sucess\n",
    "# 6 - Cancelled "
   ]
  },
  {
   "cell_type": "code",
   "execution_count": 11,
   "id": "e721b09f",
   "metadata": {},
   "outputs": [
    {
     "name": "stderr",
     "output_type": "stream",
     "text": [
      "C:\\Users\\ANKUR\\anaconda3\\lib\\site-packages\\seaborn\\_decorators.py:36: FutureWarning: Pass the following variable as a keyword arg: x. From version 0.12, the only valid positional argument will be `data`, and passing other arguments without an explicit keyword will result in an error or misinterpretation.\n",
      "  warnings.warn(\n"
     ]
    },
    {
     "data": {
      "text/plain": [
       "<AxesSubplot:xlabel='Status', ylabel='count'>"
      ]
     },
     "execution_count": 11,
     "metadata": {},
     "output_type": "execute_result"
    },
    {
     "data": {
      "image/png": "[encoded data removed]",
      "text/plain": [
       "<Figure size 432x288 with 1 Axes>"
      ]
     },
     "metadata": {
      "needs_background": "light"
     },
     "output_type": "display_data"
    }
   ],
   "source": [
    "sns.countplot(df['Status'])"
   ]
  },
  {
   "cell_type": "code",
   "execution_count": 65,
   "id": "dead2b18",
   "metadata": {},
   "outputs": [
    {
     "name": "stderr",
     "output_type": "stream",
     "text": [
      "C:\\Users\\ANKUR\\anaconda3\\lib\\site-packages\\seaborn\\_decorators.py:36: FutureWarning: Pass the following variable as a keyword arg: x. From version 0.12, the only valid positional argument will be `data`, and passing other arguments without an explicit keyword will result in an error or misinterpretation.\n",
      "  warnings.warn(\n"
     ]
    },
    {
     "data": {
      "text/plain": [
       "<AxesSubplot:xlabel='Status'>"
      ]
     },
     "execution_count": 65,
     "metadata": {},
     "output_type": "execute_result"
    },
    {
     "data": {
      "image/png": "[encoded data removed]",
      "text/plain": [
       "<Figure size 432x288 with 1 Axes>"
      ]
     },
     "metadata": {
      "needs_background": "light"
     },
     "output_type": "display_data"
    }
   ],
   "source": [
    "sns.boxplot(df['Status'])"
   ]
  },
  {
   "cell_type": "markdown",
   "id": "b32107fe",
   "metadata": {},
   "source": [
    "About 50k+ transactions are failing, in one day. It always leaves to some doubt in the mind of end customers. "
   ]
  },
  {
   "cell_type": "markdown",
   "id": "ac8183f5",
   "metadata": {},
   "source": [
    "### IsReversed"
   ]
  },
  {
   "cell_type": "code",
   "execution_count": 52,
   "id": "ecafe483",
   "metadata": {},
   "outputs": [
    {
     "data": {
      "text/plain": [
       "2    122153\n",
       "3     16477\n",
       "1      2344\n",
       "0        28\n",
       "Name: IsReversed, dtype: int64"
      ]
     },
     "execution_count": 52,
     "metadata": {},
     "output_type": "execute_result"
    }
   ],
   "source": [
    "df['IsReversed'].value_counts()\n",
    "# 1 - inProcess\n",
    "# 2 - Success\n",
    "# 3 - Failed\n",
    "# 4 - Rejected\n",
    "# 5 - Partial Sucess\n",
    "# 6 - Cancelled "
   ]
  },
  {
   "cell_type": "code",
   "execution_count": 66,
   "id": "97874f86",
   "metadata": {},
   "outputs": [
    {
     "name": "stderr",
     "output_type": "stream",
     "text": [
      "C:\\Users\\ANKUR\\anaconda3\\lib\\site-packages\\seaborn\\_decorators.py:36: FutureWarning: Pass the following variable as a keyword arg: x. From version 0.12, the only valid positional argument will be `data`, and passing other arguments without an explicit keyword will result in an error or misinterpretation.\n",
      "  warnings.warn(\n"
     ]
    },
    {
     "data": {
      "text/plain": [
       "<AxesSubplot:xlabel='IsReversed'>"
      ]
     },
     "execution_count": 66,
     "metadata": {},
     "output_type": "execute_result"
    },
    {
     "data": {
      "image/png": "[encoded data removed]",
      "text/plain": [
       "<Figure size 432x288 with 1 Axes>"
      ]
     },
     "metadata": {
      "needs_background": "light"
     },
     "output_type": "display_data"
    }
   ],
   "source": [
    "sns.boxplot(df['IsReversed'])"
   ]
  },
  {
   "cell_type": "markdown",
   "id": "d51fcfb7",
   "metadata": {},
   "source": [
    "What does 2,3,1,0 signify. If 2 signifies that the transaction is complete, then why it will be reversed."
   ]
  },
  {
   "cell_type": "code",
   "execution_count": 13,
   "id": "43fe1549",
   "metadata": {},
   "outputs": [
    {
     "name": "stderr",
     "output_type": "stream",
     "text": [
      "C:\\Users\\ANKUR\\anaconda3\\lib\\site-packages\\seaborn\\_decorators.py:36: FutureWarning: Pass the following variable as a keyword arg: x. From version 0.12, the only valid positional argument will be `data`, and passing other arguments without an explicit keyword will result in an error or misinterpretation.\n",
      "  warnings.warn(\n"
     ]
    },
    {
     "data": {
      "text/plain": [
       "<AxesSubplot:xlabel='IsReversed', ylabel='count'>"
      ]
     },
     "execution_count": 13,
     "metadata": {},
     "output_type": "execute_result"
    },
    {
     "data": {
      "image/png": "[encoded data removed]",
      "text/plain": [
       "<Figure size 432x288 with 1 Axes>"
      ]
     },
     "metadata": {
      "needs_background": "light"
     },
     "output_type": "display_data"
    }
   ],
   "source": [
    "sns.countplot(df['IsReversed'])"
   ]
  },
  {
   "cell_type": "markdown",
   "id": "07fe5b5d",
   "metadata": {},
   "source": [
    "### From Transaction Date column, we can calculate the peek time of the day when the most of the transaction is being done."
   ]
  },
  {
   "cell_type": "markdown",
   "id": "3bb65b8b",
   "metadata": {},
   "source": [
    "### From Update On column, we can interpretate that how much time it is taking to update after completion of the transaction.  "
   ]
  },
  {
   "cell_type": "markdown",
   "id": "00f9f3c4",
   "metadata": {},
   "source": [
    "### EndPointId"
   ]
  },
  {
   "cell_type": "code",
   "execution_count": 58,
   "id": "9e72de21",
   "metadata": {},
   "outputs": [
    {
     "data": {
      "text/plain": [
       "64    66326\n",
       "51    42778\n",
       "60    14049\n",
       "47     6696\n",
       "6      2687\n",
       "53     2501\n",
       "34     2139\n",
       "10     1544\n",
       "43     1123\n",
       "58      434\n",
       "32      239\n",
       "48      169\n",
       "40      100\n",
       "22       66\n",
       "61       57\n",
       "59       31\n",
       "30       21\n",
       "3        18\n",
       "68        6\n",
       "62        5\n",
       "7         5\n",
       "41        3\n",
       "14        2\n",
       "4         2\n",
       "57        1\n",
       "Name: EndPointId, dtype: int64"
      ]
     },
     "execution_count": 58,
     "metadata": {},
     "output_type": "execute_result"
    }
   ],
   "source": [
    "df['EndPointId'].value_counts()"
   ]
  },
  {
   "cell_type": "markdown",
   "id": "88aa14c5",
   "metadata": {},
   "source": [
    "What does it signifies ?? it is generating same EndPoint ID many times. is this id is for any particular city or state.  "
   ]
  },
  {
   "cell_type": "code",
   "execution_count": 60,
   "id": "34db0744",
   "metadata": {},
   "outputs": [
    {
     "data": {
      "text/plain": [
       "0         27120\n",
       "00        24441\n",
       "U3         7821\n",
       "91         2883\n",
       "52         1710\n",
       "          ...  \n",
       "BOU008        1\n",
       "30            1\n",
       "UY            1\n",
       "200           1\n",
       "313           1\n",
       "Name: StatusCode, Length: 85, dtype: int64"
      ]
     },
     "execution_count": 60,
     "metadata": {},
     "output_type": "execute_result"
    }
   ],
   "source": [
    "df['StatusCode'].value_counts()"
   ]
  },
  {
   "cell_type": "markdown",
   "id": "c6d547e0",
   "metadata": {},
   "source": [
    "Nothing is clear from this statuscode data."
   ]
  },
  {
   "cell_type": "code",
   "execution_count": 73,
   "id": "790d0f40",
   "metadata": {},
   "outputs": [
    {
     "data": {
      "text/html": [
       "<div>\n",
       "<style scoped>\n",
       "    .dataframe tbody tr th:only-of-type {\n",
       "        vertical-align: middle;\n",
       "    }\n",
       "\n",
       "    .dataframe tbody tr th {\n",
       "        vertical-align: top;\n",
       "    }\n",
       "\n",
       "    .dataframe thead th {\n",
       "        text-align: right;\n",
       "    }\n",
       "</style>\n",
       "<table border=\"1\" class=\"dataframe\">\n",
       "  <thead>\n",
       "    <tr style=\"text-align: right;\">\n",
       "      <th></th>\n",
       "      <th>ATId</th>\n",
       "      <th>BusinessId</th>\n",
       "      <th>DeviceCode</th>\n",
       "      <th>TransactionID</th>\n",
       "      <th>ProductId</th>\n",
       "      <th>PayModeId</th>\n",
       "      <th>Amount</th>\n",
       "      <th>TxnSource</th>\n",
       "      <th>Status</th>\n",
       "      <th>IsReversed</th>\n",
       "      <th>TransactionDate</th>\n",
       "      <th>EndPointId</th>\n",
       "      <th>StatusCode</th>\n",
       "      <th>UpdatedOn</th>\n",
       "    </tr>\n",
       "  </thead>\n",
       "  <tbody>\n",
       "    <tr>\n",
       "      <th>0</th>\n",
       "      <td>143453104</td>\n",
       "      <td>343554</td>\n",
       "      <td>MAO4SLWN</td>\n",
       "      <td>2205150001320000003</td>\n",
       "      <td>49</td>\n",
       "      <td>1</td>\n",
       "      <td>666.0</td>\n",
       "      <td>2</td>\n",
       "      <td>3</td>\n",
       "      <td>1</td>\n",
       "      <td>2022-05-15 00:01:32.453</td>\n",
       "      <td>47</td>\n",
       "      <td>201</td>\n",
       "      <td>2022-05-15 00:01:33.850</td>\n",
       "    </tr>\n",
       "    <tr>\n",
       "      <th>1</th>\n",
       "      <td>143453105</td>\n",
       "      <td>343050</td>\n",
       "      <td>MADRKA0</td>\n",
       "      <td>2205150002320000005</td>\n",
       "      <td>51</td>\n",
       "      <td>1</td>\n",
       "      <td>479.0</td>\n",
       "      <td>2</td>\n",
       "      <td>2</td>\n",
       "      <td>2</td>\n",
       "      <td>2022-05-15 00:02:32.047</td>\n",
       "      <td>6</td>\n",
       "      <td>NaN</td>\n",
       "      <td>2022-05-15 00:02:57.303</td>\n",
       "    </tr>\n",
       "    <tr>\n",
       "      <th>2</th>\n",
       "      <td>143453106</td>\n",
       "      <td>190431</td>\n",
       "      <td>AS55HE7M</td>\n",
       "      <td>2205150003490000010</td>\n",
       "      <td>3039</td>\n",
       "      <td>1</td>\n",
       "      <td>0.0</td>\n",
       "      <td>2</td>\n",
       "      <td>3</td>\n",
       "      <td>3</td>\n",
       "      <td>2022-05-15 00:03:49.210</td>\n",
       "      <td>64</td>\n",
       "      <td>NaN</td>\n",
       "      <td>2022-05-15 00:03:49.570</td>\n",
       "    </tr>\n",
       "    <tr>\n",
       "      <th>3</th>\n",
       "      <td>143453107</td>\n",
       "      <td>190431</td>\n",
       "      <td>AS55HE7M</td>\n",
       "      <td>2205150003580000011</td>\n",
       "      <td>3039</td>\n",
       "      <td>1</td>\n",
       "      <td>0.0</td>\n",
       "      <td>2</td>\n",
       "      <td>3</td>\n",
       "      <td>3</td>\n",
       "      <td>2022-05-15 00:03:58.007</td>\n",
       "      <td>64</td>\n",
       "      <td>NaN</td>\n",
       "      <td>2022-05-15 00:03:58.303</td>\n",
       "    </tr>\n",
       "    <tr>\n",
       "      <th>4</th>\n",
       "      <td>143453108</td>\n",
       "      <td>190431</td>\n",
       "      <td>AS55HE7M</td>\n",
       "      <td>2205150004220000012</td>\n",
       "      <td>3039</td>\n",
       "      <td>1</td>\n",
       "      <td>0.0</td>\n",
       "      <td>2</td>\n",
       "      <td>3</td>\n",
       "      <td>3</td>\n",
       "      <td>2022-05-15 00:04:22.217</td>\n",
       "      <td>64</td>\n",
       "      <td>NaN</td>\n",
       "      <td>2022-05-15 00:04:22.467</td>\n",
       "    </tr>\n",
       "    <tr>\n",
       "      <th>...</th>\n",
       "      <td>...</td>\n",
       "      <td>...</td>\n",
       "      <td>...</td>\n",
       "      <td>...</td>\n",
       "      <td>...</td>\n",
       "      <td>...</td>\n",
       "      <td>...</td>\n",
       "      <td>...</td>\n",
       "      <td>...</td>\n",
       "      <td>...</td>\n",
       "      <td>...</td>\n",
       "      <td>...</td>\n",
       "      <td>...</td>\n",
       "      <td>...</td>\n",
       "    </tr>\n",
       "    <tr>\n",
       "      <th>140997</th>\n",
       "      <td>143594104</td>\n",
       "      <td>252236</td>\n",
       "      <td>UUM88NUJ</td>\n",
       "      <td>2205152357380151257</td>\n",
       "      <td>51</td>\n",
       "      <td>1</td>\n",
       "      <td>239.0</td>\n",
       "      <td>2</td>\n",
       "      <td>2</td>\n",
       "      <td>2</td>\n",
       "      <td>2022-05-15 23:57:37.793</td>\n",
       "      <td>6</td>\n",
       "      <td>NaN</td>\n",
       "      <td>2022-05-15 23:57:47.297</td>\n",
       "    </tr>\n",
       "    <tr>\n",
       "      <th>140998</th>\n",
       "      <td>143594105</td>\n",
       "      <td>359495</td>\n",
       "      <td>A8A0NS6H</td>\n",
       "      <td>2205152358000151258</td>\n",
       "      <td>3041</td>\n",
       "      <td>1</td>\n",
       "      <td>200.0</td>\n",
       "      <td>2</td>\n",
       "      <td>3</td>\n",
       "      <td>2</td>\n",
       "      <td>2022-05-15 23:57:59.770</td>\n",
       "      <td>64</td>\n",
       "      <td>NaN</td>\n",
       "      <td>2022-05-15 23:58:00.913</td>\n",
       "    </tr>\n",
       "    <tr>\n",
       "      <th>140999</th>\n",
       "      <td>143594106</td>\n",
       "      <td>359495</td>\n",
       "      <td>A8A0NS6H</td>\n",
       "      <td>2205152358130151259</td>\n",
       "      <td>3041</td>\n",
       "      <td>1</td>\n",
       "      <td>200.0</td>\n",
       "      <td>2</td>\n",
       "      <td>3</td>\n",
       "      <td>2</td>\n",
       "      <td>2022-05-15 23:58:13.313</td>\n",
       "      <td>64</td>\n",
       "      <td>NaN</td>\n",
       "      <td>2022-05-15 23:58:14.087</td>\n",
       "    </tr>\n",
       "    <tr>\n",
       "      <th>141000</th>\n",
       "      <td>143594107</td>\n",
       "      <td>297175</td>\n",
       "      <td>0MD7OSHD</td>\n",
       "      <td>2205152358300151260</td>\n",
       "      <td>3037</td>\n",
       "      <td>1</td>\n",
       "      <td>1.0</td>\n",
       "      <td>2</td>\n",
       "      <td>2</td>\n",
       "      <td>2</td>\n",
       "      <td>2022-05-15 23:58:29.960</td>\n",
       "      <td>64</td>\n",
       "      <td>0</td>\n",
       "      <td>2022-05-15 23:58:34.927</td>\n",
       "    </tr>\n",
       "    <tr>\n",
       "      <th>141001</th>\n",
       "      <td>143594108</td>\n",
       "      <td>303747</td>\n",
       "      <td>EGAUN1AN</td>\n",
       "      <td>2205152359140151261</td>\n",
       "      <td>49</td>\n",
       "      <td>1</td>\n",
       "      <td>15.0</td>\n",
       "      <td>2</td>\n",
       "      <td>3</td>\n",
       "      <td>1</td>\n",
       "      <td>2022-05-15 23:59:13.810</td>\n",
       "      <td>47</td>\n",
       "      <td>201</td>\n",
       "      <td>2022-05-15 23:59:15.097</td>\n",
       "    </tr>\n",
       "  </tbody>\n",
       "</table>\n",
       "<p>141002 rows × 14 columns</p>\n",
       "</div>"
      ],
      "text/plain": [
       "             ATId  BusinessId DeviceCode        TransactionID  ProductId  \\\n",
       "0       143453104      343554   MAO4SLWN  2205150001320000003         49   \n",
       "1       143453105      343050    MADRKA0  2205150002320000005         51   \n",
       "2       143453106      190431   AS55HE7M  2205150003490000010       3039   \n",
       "3       143453107      190431   AS55HE7M  2205150003580000011       3039   \n",
       "4       143453108      190431   AS55HE7M  2205150004220000012       3039   \n",
       "...           ...         ...        ...                  ...        ...   \n",
       "140997  143594104      252236   UUM88NUJ  2205152357380151257         51   \n",
       "140998  143594105      359495   A8A0NS6H  2205152358000151258       3041   \n",
       "140999  143594106      359495   A8A0NS6H  2205152358130151259       3041   \n",
       "141000  143594107      297175   0MD7OSHD  2205152358300151260       3037   \n",
       "141001  143594108      303747   EGAUN1AN  2205152359140151261         49   \n",
       "\n",
       "        PayModeId  Amount  TxnSource  Status  IsReversed  \\\n",
       "0               1   666.0          2       3           1   \n",
       "1               1   479.0          2       2           2   \n",
       "2               1     0.0          2       3           3   \n",
       "3               1     0.0          2       3           3   \n",
       "4               1     0.0          2       3           3   \n",
       "...           ...     ...        ...     ...         ...   \n",
       "140997          1   239.0          2       2           2   \n",
       "140998          1   200.0          2       3           2   \n",
       "140999          1   200.0          2       3           2   \n",
       "141000          1     1.0          2       2           2   \n",
       "141001          1    15.0          2       3           1   \n",
       "\n",
       "                TransactionDate  EndPointId StatusCode  \\\n",
       "0       2022-05-15 00:01:32.453          47        201   \n",
       "1       2022-05-15 00:02:32.047           6        NaN   \n",
       "2       2022-05-15 00:03:49.210          64        NaN   \n",
       "3       2022-05-15 00:03:58.007          64        NaN   \n",
       "4       2022-05-15 00:04:22.217          64        NaN   \n",
       "...                         ...         ...        ...   \n",
       "140997  2022-05-15 23:57:37.793           6        NaN   \n",
       "140998  2022-05-15 23:57:59.770          64        NaN   \n",
       "140999  2022-05-15 23:58:13.313          64        NaN   \n",
       "141000  2022-05-15 23:58:29.960          64          0   \n",
       "141001  2022-05-15 23:59:13.810          47        201   \n",
       "\n",
       "                      UpdatedOn  \n",
       "0       2022-05-15 00:01:33.850  \n",
       "1       2022-05-15 00:02:57.303  \n",
       "2       2022-05-15 00:03:49.570  \n",
       "3       2022-05-15 00:03:58.303  \n",
       "4       2022-05-15 00:04:22.467  \n",
       "...                         ...  \n",
       "140997  2022-05-15 23:57:47.297  \n",
       "140998  2022-05-15 23:58:00.913  \n",
       "140999  2022-05-15 23:58:14.087  \n",
       "141000  2022-05-15 23:58:34.927  \n",
       "141001  2022-05-15 23:59:15.097  \n",
       "\n",
       "[141002 rows x 14 columns]"
      ]
     },
     "execution_count": 73,
     "metadata": {},
     "output_type": "execute_result"
    }
   ],
   "source": [
    "df1 = df.drop(['AssociateRefTxnId'],axis = 1)\n",
    "df1"
   ]
  },
  {
   "cell_type": "code",
   "execution_count": 74,
   "id": "978e50f5",
   "metadata": {},
   "outputs": [
    {
     "data": {
      "text/html": [
       "<div>\n",
       "<style scoped>\n",
       "    .dataframe tbody tr th:only-of-type {\n",
       "        vertical-align: middle;\n",
       "    }\n",
       "\n",
       "    .dataframe tbody tr th {\n",
       "        vertical-align: top;\n",
       "    }\n",
       "\n",
       "    .dataframe thead th {\n",
       "        text-align: right;\n",
       "    }\n",
       "</style>\n",
       "<table border=\"1\" class=\"dataframe\">\n",
       "  <thead>\n",
       "    <tr style=\"text-align: right;\">\n",
       "      <th></th>\n",
       "      <th>ATId</th>\n",
       "      <th>BusinessId</th>\n",
       "      <th>DeviceCode</th>\n",
       "      <th>TransactionID</th>\n",
       "      <th>ProductId</th>\n",
       "      <th>PayModeId</th>\n",
       "      <th>Amount</th>\n",
       "      <th>TxnSource</th>\n",
       "      <th>Status</th>\n",
       "      <th>IsReversed</th>\n",
       "      <th>TransactionDate</th>\n",
       "      <th>EndPointId</th>\n",
       "      <th>UpdatedOn</th>\n",
       "    </tr>\n",
       "  </thead>\n",
       "  <tbody>\n",
       "    <tr>\n",
       "      <th>0</th>\n",
       "      <td>143453104</td>\n",
       "      <td>343554</td>\n",
       "      <td>MAO4SLWN</td>\n",
       "      <td>2205150001320000003</td>\n",
       "      <td>49</td>\n",
       "      <td>1</td>\n",
       "      <td>666.0</td>\n",
       "      <td>2</td>\n",
       "      <td>3</td>\n",
       "      <td>1</td>\n",
       "      <td>2022-05-15 00:01:32.453</td>\n",
       "      <td>47</td>\n",
       "      <td>2022-05-15 00:01:33.850</td>\n",
       "    </tr>\n",
       "    <tr>\n",
       "      <th>1</th>\n",
       "      <td>143453105</td>\n",
       "      <td>343050</td>\n",
       "      <td>MADRKA0</td>\n",
       "      <td>2205150002320000005</td>\n",
       "      <td>51</td>\n",
       "      <td>1</td>\n",
       "      <td>479.0</td>\n",
       "      <td>2</td>\n",
       "      <td>2</td>\n",
       "      <td>2</td>\n",
       "      <td>2022-05-15 00:02:32.047</td>\n",
       "      <td>6</td>\n",
       "      <td>2022-05-15 00:02:57.303</td>\n",
       "    </tr>\n",
       "    <tr>\n",
       "      <th>2</th>\n",
       "      <td>143453106</td>\n",
       "      <td>190431</td>\n",
       "      <td>AS55HE7M</td>\n",
       "      <td>2205150003490000010</td>\n",
       "      <td>3039</td>\n",
       "      <td>1</td>\n",
       "      <td>0.0</td>\n",
       "      <td>2</td>\n",
       "      <td>3</td>\n",
       "      <td>3</td>\n",
       "      <td>2022-05-15 00:03:49.210</td>\n",
       "      <td>64</td>\n",
       "      <td>2022-05-15 00:03:49.570</td>\n",
       "    </tr>\n",
       "    <tr>\n",
       "      <th>3</th>\n",
       "      <td>143453107</td>\n",
       "      <td>190431</td>\n",
       "      <td>AS55HE7M</td>\n",
       "      <td>2205150003580000011</td>\n",
       "      <td>3039</td>\n",
       "      <td>1</td>\n",
       "      <td>0.0</td>\n",
       "      <td>2</td>\n",
       "      <td>3</td>\n",
       "      <td>3</td>\n",
       "      <td>2022-05-15 00:03:58.007</td>\n",
       "      <td>64</td>\n",
       "      <td>2022-05-15 00:03:58.303</td>\n",
       "    </tr>\n",
       "    <tr>\n",
       "      <th>4</th>\n",
       "      <td>143453108</td>\n",
       "      <td>190431</td>\n",
       "      <td>AS55HE7M</td>\n",
       "      <td>2205150004220000012</td>\n",
       "      <td>3039</td>\n",
       "      <td>1</td>\n",
       "      <td>0.0</td>\n",
       "      <td>2</td>\n",
       "      <td>3</td>\n",
       "      <td>3</td>\n",
       "      <td>2022-05-15 00:04:22.217</td>\n",
       "      <td>64</td>\n",
       "      <td>2022-05-15 00:04:22.467</td>\n",
       "    </tr>\n",
       "    <tr>\n",
       "      <th>...</th>\n",
       "      <td>...</td>\n",
       "      <td>...</td>\n",
       "      <td>...</td>\n",
       "      <td>...</td>\n",
       "      <td>...</td>\n",
       "      <td>...</td>\n",
       "      <td>...</td>\n",
       "      <td>...</td>\n",
       "      <td>...</td>\n",
       "      <td>...</td>\n",
       "      <td>...</td>\n",
       "      <td>...</td>\n",
       "      <td>...</td>\n",
       "    </tr>\n",
       "    <tr>\n",
       "      <th>140997</th>\n",
       "      <td>143594104</td>\n",
       "      <td>252236</td>\n",
       "      <td>UUM88NUJ</td>\n",
       "      <td>2205152357380151257</td>\n",
       "      <td>51</td>\n",
       "      <td>1</td>\n",
       "      <td>239.0</td>\n",
       "      <td>2</td>\n",
       "      <td>2</td>\n",
       "      <td>2</td>\n",
       "      <td>2022-05-15 23:57:37.793</td>\n",
       "      <td>6</td>\n",
       "      <td>2022-05-15 23:57:47.297</td>\n",
       "    </tr>\n",
       "    <tr>\n",
       "      <th>140998</th>\n",
       "      <td>143594105</td>\n",
       "      <td>359495</td>\n",
       "      <td>A8A0NS6H</td>\n",
       "      <td>2205152358000151258</td>\n",
       "      <td>3041</td>\n",
       "      <td>1</td>\n",
       "      <td>200.0</td>\n",
       "      <td>2</td>\n",
       "      <td>3</td>\n",
       "      <td>2</td>\n",
       "      <td>2022-05-15 23:57:59.770</td>\n",
       "      <td>64</td>\n",
       "      <td>2022-05-15 23:58:00.913</td>\n",
       "    </tr>\n",
       "    <tr>\n",
       "      <th>140999</th>\n",
       "      <td>143594106</td>\n",
       "      <td>359495</td>\n",
       "      <td>A8A0NS6H</td>\n",
       "      <td>2205152358130151259</td>\n",
       "      <td>3041</td>\n",
       "      <td>1</td>\n",
       "      <td>200.0</td>\n",
       "      <td>2</td>\n",
       "      <td>3</td>\n",
       "      <td>2</td>\n",
       "      <td>2022-05-15 23:58:13.313</td>\n",
       "      <td>64</td>\n",
       "      <td>2022-05-15 23:58:14.087</td>\n",
       "    </tr>\n",
       "    <tr>\n",
       "      <th>141000</th>\n",
       "      <td>143594107</td>\n",
       "      <td>297175</td>\n",
       "      <td>0MD7OSHD</td>\n",
       "      <td>2205152358300151260</td>\n",
       "      <td>3037</td>\n",
       "      <td>1</td>\n",
       "      <td>1.0</td>\n",
       "      <td>2</td>\n",
       "      <td>2</td>\n",
       "      <td>2</td>\n",
       "      <td>2022-05-15 23:58:29.960</td>\n",
       "      <td>64</td>\n",
       "      <td>2022-05-15 23:58:34.927</td>\n",
       "    </tr>\n",
       "    <tr>\n",
       "      <th>141001</th>\n",
       "      <td>143594108</td>\n",
       "      <td>303747</td>\n",
       "      <td>EGAUN1AN</td>\n",
       "      <td>2205152359140151261</td>\n",
       "      <td>49</td>\n",
       "      <td>1</td>\n",
       "      <td>15.0</td>\n",
       "      <td>2</td>\n",
       "      <td>3</td>\n",
       "      <td>1</td>\n",
       "      <td>2022-05-15 23:59:13.810</td>\n",
       "      <td>47</td>\n",
       "      <td>2022-05-15 23:59:15.097</td>\n",
       "    </tr>\n",
       "  </tbody>\n",
       "</table>\n",
       "<p>141002 rows × 13 columns</p>\n",
       "</div>"
      ],
      "text/plain": [
       "             ATId  BusinessId DeviceCode        TransactionID  ProductId  \\\n",
       "0       143453104      343554   MAO4SLWN  2205150001320000003         49   \n",
       "1       143453105      343050    MADRKA0  2205150002320000005         51   \n",
       "2       143453106      190431   AS55HE7M  2205150003490000010       3039   \n",
       "3       143453107      190431   AS55HE7M  2205150003580000011       3039   \n",
       "4       143453108      190431   AS55HE7M  2205150004220000012       3039   \n",
       "...           ...         ...        ...                  ...        ...   \n",
       "140997  143594104      252236   UUM88NUJ  2205152357380151257         51   \n",
       "140998  143594105      359495   A8A0NS6H  2205152358000151258       3041   \n",
       "140999  143594106      359495   A8A0NS6H  2205152358130151259       3041   \n",
       "141000  143594107      297175   0MD7OSHD  2205152358300151260       3037   \n",
       "141001  143594108      303747   EGAUN1AN  2205152359140151261         49   \n",
       "\n",
       "        PayModeId  Amount  TxnSource  Status  IsReversed  \\\n",
       "0               1   666.0          2       3           1   \n",
       "1               1   479.0          2       2           2   \n",
       "2               1     0.0          2       3           3   \n",
       "3               1     0.0          2       3           3   \n",
       "4               1     0.0          2       3           3   \n",
       "...           ...     ...        ...     ...         ...   \n",
       "140997          1   239.0          2       2           2   \n",
       "140998          1   200.0          2       3           2   \n",
       "140999          1   200.0          2       3           2   \n",
       "141000          1     1.0          2       2           2   \n",
       "141001          1    15.0          2       3           1   \n",
       "\n",
       "                TransactionDate  EndPointId                UpdatedOn  \n",
       "0       2022-05-15 00:01:32.453          47  2022-05-15 00:01:33.850  \n",
       "1       2022-05-15 00:02:32.047           6  2022-05-15 00:02:57.303  \n",
       "2       2022-05-15 00:03:49.210          64  2022-05-15 00:03:49.570  \n",
       "3       2022-05-15 00:03:58.007          64  2022-05-15 00:03:58.303  \n",
       "4       2022-05-15 00:04:22.217          64  2022-05-15 00:04:22.467  \n",
       "...                         ...         ...                      ...  \n",
       "140997  2022-05-15 23:57:37.793           6  2022-05-15 23:57:47.297  \n",
       "140998  2022-05-15 23:57:59.770          64  2022-05-15 23:58:00.913  \n",
       "140999  2022-05-15 23:58:13.313          64  2022-05-15 23:58:14.087  \n",
       "141000  2022-05-15 23:58:29.960          64  2022-05-15 23:58:34.927  \n",
       "141001  2022-05-15 23:59:13.810          47  2022-05-15 23:59:15.097  \n",
       "\n",
       "[141002 rows x 13 columns]"
      ]
     },
     "execution_count": 74,
     "metadata": {},
     "output_type": "execute_result"
    }
   ],
   "source": [
    "df1.drop(['StatusCode'],axis= 1)"
   ]
  },
  {
   "cell_type": "code",
   "execution_count": null,
   "id": "76a7bf8b",
   "metadata": {},
   "outputs": [],
   "source": []
  }
 ],
 "metadata": {
  "kernelspec": {
   "display_name": "Python 3 (ipykernel)",
   "language": "python",
   "name": "python3"
  },
  "language_info": {
   "codemirror_mode": {
    "name": "ipython",
    "version": 3
   },
   "file_extension": ".py",
   "mimetype": "text/x-python",
   "name": "python",
   "nbconvert_exporter": "python",
   "pygments_lexer": "ipython3",
   "version": "3.8.5"
  }
 },
 "nbformat": 4,
 "nbformat_minor": 5
}
